{
  "nbformat": 4,
  "nbformat_minor": 0,
  "metadata": {
    "colab": {
      "provenance": []
    },
    "kernelspec": {
      "name": "python3",
      "display_name": "Python 3"
    },
    "language_info": {
      "name": "python"
    }
  },
  "cells": [
    {
      "cell_type": "markdown",
      "source": [
        "##`Q-1:` Rectangle Class\n",
        "1. Write a Rectangle class in Python language, allowing you to build a rectangle with length and width attributes.\n",
        "\n",
        "2. Create a Perimeter() method to calculate the perimeter of the rectangle and a Area() method to calculate the area of ​​the rectangle.\n",
        "\n",
        "3. Create a method display() that display the length, width, perimeter and area of an object created using an instantiation on rectangle class."
      ],
      "metadata": {
        "id": "FyUJ3PRAsPr4"
      }
    },
    {
      "cell_type": "markdown",
      "source": [
        "Eg.\n",
        "After making above classes and methods, on executing below code:-\n",
        "```\n",
        "my_rectangle = Rectangle(3 , 4)\n",
        "my_rectangle.display()\n",
        "```\n",
        "\n",
        "`Output:`\n",
        "```\n",
        "The length of rectangle is:  3\n",
        "The width of rectangle is:  4\n",
        "The perimeter of rectangle is:  14\n",
        "The area of rectangle is:  12\n",
        "```\n"
      ],
      "metadata": {
        "id": "GxUtOqJfssFK"
      }
    },
    {
      "cell_type": "code",
      "source": [
        "class Rectangle:\n",
        "\n",
        "    def __init__(self,length,width):\n",
        "        self.length = length\n",
        "        self.width = width\n",
        "\n",
        "    def display(self):\n",
        "        print(f\"The length of rectangle: {self.length}\")\n",
        "        print(f\"The width of rectangle: {self.width}\")\n",
        "        self.perimeter()\n",
        "        self.area()\n",
        "\n",
        "    def perimeter(self):\n",
        "        print(f\"Perimeter of Rectangle: {2* (self.length + self.width)}\")\n",
        "\n",
        "    def area(self):\n",
        "        print(f\"Area of Rectangle: {self.length * self.width}\")\n",
        "\n",
        "\n",
        "\n",
        "my_rectangle = Rectangle(3 , 4)\n",
        "my_rectangle.display()\n"
      ],
      "metadata": {
        "id": "92_QT-Uj6NBg",
        "outputId": "62cc6311-156d-4ae5-ec93-0163f64434b0",
        "colab": {
          "base_uri": "https://localhost:8080/"
        }
      },
      "execution_count": null,
      "outputs": [
        {
          "output_type": "stream",
          "name": "stdout",
          "text": [
            "The length of rectangle: 3\n",
            "The width of rectangle: 4\n",
            "Perimeter of Rectangle: 14\n",
            "Area of Rectangle: 12\n"
          ]
        }
      ]
    },
    {
      "cell_type": "markdown",
      "source": [
        "##`Q-2: Bank Class`\n",
        "\n",
        "1. Create a Python class called `BankAccount` which represents a bank account, having as attributes: `accountNumber` (numeric type), `name` (name of the account owner as string type), `balance`.\n",
        "2. Create a constructor with parameters: `accountNumber, name, balance`.\n",
        "3. Create a `Deposit()` method which manages the deposit actions.\n",
        "4. Create a `Withdrawal()` method  which manages withdrawals actions.\n",
        "5. Create an `bankFees()` method to apply the bank fees with a percentage of 5% of the balance account.\n",
        "6. Create a `display()` method to display account details.\n",
        "Give the complete code for the  BankAccount class."
      ],
      "metadata": {
        "id": "r_GxrS0Vrdom"
      }
    },
    {
      "cell_type": "markdown",
      "source": [
        "Eg.\n",
        "After making above classes and methods, on executing below code:-\n",
        "```\n",
        "newAccount = BankAccount(2178514584, \"Mandy\" , 2800)\n",
        "\n",
        "newAccount.Withdrawal(700)\n",
        "\n",
        "newAccount.Deposit(1000)\n",
        "\n",
        "newAccount.display()\n",
        "```\n",
        "\n",
        "`Output:`\n",
        "```\n",
        "Account Number :  2178514584\n",
        "Account Name :  Mandy\n",
        "Account Balance :  3100 ₹\n",
        "```"
      ],
      "metadata": {
        "id": "qvVkOUJgvTV_"
      }
    },
    {
      "cell_type": "code",
      "source": [
        "# write your code here"
      ],
      "metadata": {
        "id": "fUQOmQyA6YDR"
      },
      "execution_count": null,
      "outputs": []
    },
    {
      "cell_type": "markdown",
      "source": [
        "##`Q-3:Computation class`\n",
        "\n",
        "1. Create a `Computation` class with a default constructor (without parameters) allowing to perform various calculations on integers numbers.\n",
        "2. Create a method called `Factorial()` which allows to calculate the factorial of an integer n. Integer n as parameter for this method\n",
        "\n",
        "3. Create a method called `naturalSum()` allowing to calculate the sum of the first n integers 1 + 2 + 3 + .. + n. Integer n as parameter for this method.\n",
        "\n",
        "4. Create a method called `testPrime()` in  the Calculation class to test the primality of a given integer n, n is Prime or Not? Integer n as parameter for this method.\n",
        "\n",
        "5. Create  a method called `testPrims()` allowing to test if two numbers are prime between them. Two integers are prime to one another if they have only `1` as their common divisor. Eg. 4 and 9 are prime to each other.\n",
        "\n",
        "5. Create a `tableMult()` method which creates and displays the multiplication table of a given integer. Then create an `allTablesMult()` method to display all the integer multiplication tables 1, 2, 3, ..., 9.\n",
        "\n",
        "6. Create a static `listDiv()` method that gets all the divisors of a given integer on new list called  Ldiv. Create another `listDivPrim()` method that gets all the prime divisors of a given integer."
      ],
      "metadata": {
        "id": "QovcQAZTrgGU"
      }
    },
    {
      "cell_type": "code",
      "source": [
        "class Computation:\n",
        "    def __init__(self):\n",
        "        pass\n",
        "\n",
        "    def Factorial(self,n):\n",
        "        mul = 1\n",
        "        for i in range(n,0,-1):\n",
        "            mul*=i\n",
        "        print(f\"Factorial: {mul}\")\n",
        "\n",
        "    def naturalSum(self,n):\n",
        "        print(f\"Sum: {(n*(n+1))/2}\")\n",
        "\n",
        "    def testPrime(self,n):\n",
        "        flag = False\n",
        "        for i in range(2,n-1):\n",
        "            if n%i == 0:\n",
        "                flag = True\n",
        "        if flag:\n",
        "            print(f\"{n} is not Prime\")\n",
        "        else:\n",
        "            print(f\"{n} is Prime\")\n",
        "\n",
        "    def testPrims(self,a,b):\n",
        "        flag = False\n",
        "        for i in range(2,max(a,b)):\n",
        "            if a%i == 0 and b%i==0:\n",
        "                flag = True\n",
        "\n",
        "        if flag:\n",
        "            print(f\"{a} and {b} aren't prime to each other\")\n",
        "        else:\n",
        "            print(f\"{a} and {b} are prime to each other\")\n",
        "\n",
        "    def tableMult(self,n):\n",
        "        for i in range(1,11):\n",
        "            print(f\"{n} * {i} = {n*i}\")\n",
        "\n",
        "    def allTablesMult(self):\n",
        "        n = 1\n",
        "        while n <= 9:\n",
        "            for i in range(1,11):\n",
        "                print(f\"{n} * {i} = {n*i}\")\n",
        "            print()\n",
        "            n+=1\n",
        "\n",
        "    def listDiv(self,n):\n",
        "        l = []\n",
        "        for i in range(1,n+1):\n",
        "            if n%i==0:\n",
        "                l.append(i)\n",
        "\n",
        "    def listDivPrim(self,n):\n",
        "        l = []\n",
        "        for i in range(1,n+1):\n",
        "            if n%i==0 and self.helper_listDivPrim(i) == False:\n",
        "                l.append(i)\n",
        "\n",
        "    def helper_listDivPrim(self,n):\n",
        "        flag = False\n",
        "        for i in range(2,n-1):\n",
        "            if n%i == 0:\n",
        "                flag = True\n",
        "        if flag:\n",
        "            return True\n",
        "        else:\n",
        "            return False\n",
        "\n",
        "obj = Computation()\n",
        "obj.naturalSum(10)"
      ],
      "metadata": {
        "id": "YEkPH70l6Z-o"
      },
      "execution_count": null,
      "outputs": []
    },
    {
      "cell_type": "markdown",
      "source": [
        "##`Q-4`: Build flashcard using class in Python.\n",
        "\n",
        "Build a flashcard using class in python. A flashcard is a card having information on both sides, which can be used as an aid in memoization. Flashcards usually have a question on one side and an answer on the other.\n",
        "\n",
        "**Example 1:**\n",
        "\n",
        "Approach:\n",
        "\n",
        "- Create a class named FlashCard.\n",
        "- Initialize dictionary fruits using __init__() method. Here you have to define fruit name as key and it's color as value. E.g., {\"Banana\": \"yellow\", \"Strawberries\": \"pink\"}\n",
        "- Now randomly choose a pair from fruits by using _random_ module and store the key in variable _fruit_ and _value_ in variable color.\n",
        "- Now prompt the user to answer the color of the randomly chosen fruit.\n",
        "- If correct print correct else print wrong.\n",
        "\n",
        "Output:\n",
        "```bash\n",
        "welcome to fruit quiz\n",
        "What is the color of Strawberries\n",
        "pink\n",
        "Correct answer\n",
        "Enter 0, if you want to play again: 0\n",
        "What is the color of watermelon\n",
        "green\n",
        "Correct answer\n",
        "Enter 0, if you want to play again: 1\n",
        "```"
      ],
      "metadata": {
        "id": "0yn23_oEriXa"
      }
    },
    {
      "cell_type": "code",
      "source": [
        "import random\n",
        "class FlashCard():\n",
        "    def __init__(self):\n",
        "        self.fruits = {\"Banana\": \"yellow\", \"Strawberries\": \"pink\"}\n",
        "        self.fruit = random.choice(list(self.fruits.keys()))\n",
        "        self.color = random.choice(list(self.fruits.values()))\n",
        "        self.display()\n",
        "\n",
        "    def display(self):\n",
        "        user_input = input(f\"Guess the color of {self.fruit}: \")\n",
        "        if user_input == self.color:\n",
        "            print(\"Congratulations you have Won the competition! \")\n",
        "        else:\n",
        "            print(\"Better luck next time! \")\n",
        "\n",
        "        n = int(input(\"Enter 0 if you want to play again: \"))\n",
        "        if n == 0:\n",
        "            self.display()\n",
        "        else:\n",
        "            exit()\n",
        "\n",
        "\n",
        "obj = FlashCard()\n",
        ""
      ],
      "metadata": {
        "id": "vCrUF6VU6l6w"
      },
      "execution_count": null,
      "outputs": []
    },
    {
      "cell_type": "markdown",
      "source": [
        "## `Q-5:` Problem 5 based on OOP Python.\n",
        "\n",
        "TechWorld, a technology training center, wants to allocate courses for instructors. An instructor is identified by name, technology skills, experience and average feedback. An instructor is allocated a course, if he/she satisfies the below two conditions:\n",
        "- eligibility criteria:\n",
        "    - if experience is more than 3 years, average feedback should be 4.5 or more\n",
        "    - if experience is 3 years or less, average feedback should be 4 or more\n",
        "- he/she should posses the technology skill for the course\n",
        "\n",
        "Identify the class name and attributes to represent instructors. Write a Python program to implement the class chosen with its attributes and methods.\n",
        "\n",
        "**Note:**\n",
        "- Consider all instance variables to be private and methods to be public.\n",
        "- An instructor may have multiple technology skills, so consider instance variable, technology_skill to be a list.\n",
        "- *check_eligibility()*: Return true if eligibility criteria is satisfied by the instructor. Else, return false\n",
        "- *allocate_course(technology)*: Return true if the course which requires the given technology can be allocated to the instructor. Else, return false.\n",
        "\n",
        "Represent a few objects of the class, initialize instance variables using setter methods, invoke\n",
        "appropriate methods and test your program."
      ],
      "metadata": {
        "id": "GN2r0jbRewYr"
      }
    },
    {
      "cell_type": "code",
      "source": [
        "class Course:\n",
        "    def __init__(self):\n",
        "        self._experience = 0\n",
        "        self._feedback = 0\n",
        "        self._skills = []\n",
        "\n",
        "    def set_experience(self,experience):\n",
        "        self._experience = experience\n",
        "\n",
        "    def set_feedback(self,feedback):\n",
        "        self._feedback = feedback\n",
        "\n",
        "    def set_skills(self,skills):\n",
        "        for i in skills:\n",
        "            self._skills.append(i)\n",
        "\n",
        "    def check_eligibility(self):\n",
        "        if self._experience > 3 and self._feedback >= 4.5:\n",
        "            return True\n",
        "        elif self._experience <= 3 and self._feedback >= 4:\n",
        "            return True\n",
        "\n",
        "    def allocate_course(self,course):\n",
        "        if self.check_eligibility() and course in self._skills:\n",
        "            return True\n",
        "        else:\n",
        "            return False\n",
        "\n",
        "course = Course()\n",
        "course.set_experience(3)\n",
        "course.set_feedback(4.6)\n",
        "course.set_skills(['python','sql'])\n",
        "print(course.check_eligibility())\n",
        "print(course.allocate_course('python'))\n",
        ""
      ],
      "metadata": {
        "id": "pdMFuVFnlvKL"
      },
      "execution_count": null,
      "outputs": []
    }
  ]
}