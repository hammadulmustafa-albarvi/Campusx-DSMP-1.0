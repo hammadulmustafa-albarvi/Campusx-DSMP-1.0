{
  "nbformat": 4,
  "nbformat_minor": 0,
  "metadata": {
    "colab": {
      "provenance": []
    },
    "kernelspec": {
      "name": "python3",
      "display_name": "Python 3"
    },
    "language_info": {
      "name": "python"
    }
  },
  "cells": [
    {
      "cell_type": "code",
      "execution_count": 3,
      "metadata": {
        "colab": {
          "base_uri": "https://localhost:8080/"
        },
        "id": "bsW-3DbLIz2t",
        "outputId": "03e831dd-0225-4c07-e038-425b98b6f8a0"
      },
      "outputs": [
        {
          "output_type": "execute_result",
          "data": {
            "text/plain": [
              "{'entities': [{'start': 26,\n",
              "   'end': 36,\n",
              "   'type': 'programming languages',\n",
              "   'text': 'Javascript'},\n",
              "  {'start': 102,\n",
              "   'end': 108,\n",
              "   'type': 'programming languages',\n",
              "   'text': 'Python'},\n",
              "  {'start': 165, 'end': 167, 'type': 'programming languages', 'text': 'Go'}]}"
            ]
          },
          "metadata": {},
          "execution_count": 3
        }
      ],
      "source": [
        "import nlpcloud\n",
        "\n",
        "client = nlpcloud.Client(\"finetuned-llama-3-70b\", \"71dfea3cd375c7fd7542c5ff4c7c854ab5dbe285\", gpu=True)\n",
        "client.entities(\n",
        "    \"\"\"John Doe started learning Javascript when he was 15 years old. After a couple of years he switched to Python and starter learning low level programming. He is now a Go expert at Google.\"\"\",\n",
        "    searched_entity=\"programming languages\"\n",
        ")"
      ]
    },
    {
      "cell_type": "code",
      "source": [
        "import nlpcloud\n",
        "\n",
        "class NLPApp:\n",
        "    def __init__(self):\n",
        "        self.__database = {}\n",
        "        self.__first_menu()\n",
        "\n",
        "    def __first_menu(self):\n",
        "\n",
        "      first_input = input(\"\"\"\n",
        "      Hi how would you like to proceed?\n",
        "      1. Not a member ? Register\n",
        "      2. Already a member ? Login\n",
        "      3. Not interested ? Exit\n",
        "      \"\"\")\n",
        "\n",
        "      if first_input == '1':\n",
        "        self.__register()\n",
        "\n",
        "      elif first_input == '2':\n",
        "        self.__login()\n",
        "\n",
        "      else:\n",
        "        exit()\n",
        "\n",
        "\n",
        "    def __register(self):\n",
        "      print(\"Register\")\n",
        "      name = input(\"Enter name: \")\n",
        "      email = input(\"Enter email: \")\n",
        "      password = input(\"Enter password: \")\n",
        "      if email in self.__database:\n",
        "        print(\"Email is already present\")\n",
        "      else:\n",
        "        self.__database[email] = [name,password]\n",
        "        print(\"Registration Successful !\")\n",
        "        self.__first_menu()\n",
        "\n",
        "\n",
        "    def __login(self):\n",
        "      print(\"Login\")\n",
        "      email = input(\"Enter Email: \")\n",
        "      password = input(\"Enter password: \")\n",
        "      if email in self.__database:\n",
        "        if self.__database[email][1] == password:\n",
        "          print(\"Logged in Successfully !\")\n",
        "          self.__second_menu()\n",
        "        else:\n",
        "          print(\"Wrong password Try again!\")\n",
        "          self.__login()\n",
        "      else:\n",
        "        print(\"Email isn't available in database\")\n",
        "\n",
        "\n",
        "    def __second_menu(self):\n",
        "      second_input = input(\"\"\"\n",
        "      Hi how would you like to proceed?\n",
        "      1. NER\n",
        "      2. Language Detection\n",
        "      3. Sentiment Analysis\n",
        "      4. Logout\n",
        "      \"\"\")\n",
        "\n",
        "      if second_input  == '3':\n",
        "        self.__Sentiment_Analysis()\n",
        "\n",
        "    def __Sentiment_Analysis(self):\n",
        "      para = input(\"Enter paragraph: \")\n",
        "      client = nlpcloud.Client(\"finetuned-llama-3-70b\", \"71dfea3cd375c7fd7542c5ff4c7c854ab5dbe285\", gpu=True)\n",
        "      response = client.sentiment(para)\n",
        "      l = []\n",
        "      for i in response['scored_labels']:\n",
        "        l.append(i['score'])\n",
        "      index = sorted(list(enumerate(l)),key=lambda x:x[1],reverse=True)[0][0]\n",
        "      print(response['scored_labels'][index]['label'])\n",
        "\n",
        "NLPApp()\n"
      ],
      "metadata": {
        "colab": {
          "base_uri": "https://localhost:8080/"
        },
        "id": "lI1LkIKhKZGX",
        "outputId": "3f5aaab5-828b-424e-cbdc-f58006066651"
      },
      "execution_count": 13,
      "outputs": [
        {
          "output_type": "stream",
          "name": "stdout",
          "text": [
            "\n",
            "      Hi how would you like to proceed?\n",
            "      1. Not a member ? Register\n",
            "      2. Already a member ? Login\n",
            "      3. Not interested ? Exit\n",
            "      1\n",
            "Register\n",
            "Enter name: hammad\n",
            "Enter email: hammad@gmail.com\n",
            "Enter password: 1234\n",
            "Registration Successful !\n",
            "\n",
            "      Hi how would you like to proceed?\n",
            "      1. Not a member ? Register\n",
            "      2. Already a member ? Login\n",
            "      3. Not interested ? Exit\n",
            "      2\n",
            "Login\n",
            "Enter Email: hammad@gmail.com\n",
            "Enter password: 1234\n",
            "Logged in Successfully !\n",
            "\n",
            "      Hi how would you like to proceed?\n",
            "      1. NER \n",
            "      2. Language Detection\n",
            "      3. Sentiment Analysis\n",
            "      4. Logout\n",
            "      2\n",
            "Enter paragraph: She sat alone in the dimly lit room, surrounded by silence that echoed louder than any voice. The photographs on the wall were the only remnants of a happier time, now faded and forgotten. Every tick of the clock reminded her of the days that slipped through her fingers — days filled with laughter that had long since vanished. She missed him more with each passing moment, knowing he would never return.\n",
            "NEGATIVE\n"
          ]
        },
        {
          "output_type": "execute_result",
          "data": {
            "text/plain": [
              "<__main__.NLPApp at 0x7fdad66445d0>"
            ]
          },
          "metadata": {},
          "execution_count": 13
        }
      ]
    }
  ]
}