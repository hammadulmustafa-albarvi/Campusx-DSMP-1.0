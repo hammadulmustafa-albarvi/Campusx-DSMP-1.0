{
  "nbformat": 4,
  "nbformat_minor": 0,
  "metadata": {
    "colab": {
      "provenance": []
    },
    "kernelspec": {
      "name": "python3",
      "display_name": "Python 3"
    },
    "language_info": {
      "name": "python"
    }
  },
  "cells": [
    {
      "cell_type": "markdown",
      "source": [
        "### `Problem-1:` Class inheritence\n",
        "\n",
        "Create a **Bus** child class that inherits from the Vehicle class. The default fare charge of any vehicle is seating capacity * 100. If Vehicle is Bus instance, we need to add an extra 10% on full fare as a maintenance charge. So total fare for bus instance will become the final amount = total fare + 10% of the total fare.\n",
        "\n",
        "Note: The bus seating capacity is 50. so the final fare amount should be 5500. You need to override the fare() method of a Vehicle class in Bus class."
      ],
      "metadata": {
        "id": "BCleRtX43caS"
      }
    },
    {
      "cell_type": "code",
      "execution_count": 1,
      "metadata": {
        "colab": {
          "base_uri": "https://localhost:8080/"
        },
        "id": "6jVFCXKz3YZI",
        "outputId": "f651c6a9-a3b0-464a-af62-042aa61bceb1"
      },
      "outputs": [
        {
          "output_type": "stream",
          "name": "stdout",
          "text": [
            "Total bus fare is: 5500.0\n"
          ]
        }
      ],
      "source": [
        "class Vehicle:\n",
        "    def __init__(self,vehicle,vehicle_capacity):\n",
        "        self.vehicle = vehicle\n",
        "        self.fare = None\n",
        "        self.vehicle_capacity = vehicle_capacity\n",
        "\n",
        "    def calculate_fare(self):\n",
        "\n",
        "        return  self.vehicle_capacity*100\n",
        "\n",
        "\n",
        "class Bus(Vehicle):\n",
        "\n",
        "    def calculate_fare(self):\n",
        "        return (self.vehicle_capacity*100) + ((self.vehicle_capacity*100) * 0.1)\n",
        "\n",
        "    def bus_fare(self):\n",
        "        print(f\"Total bus fare is: {self.calculate_fare()}\")\n",
        "\n",
        "\n",
        "\n",
        "bus = Bus('bus',50)\n",
        "(bus.bus_fare())\n",
        "\n",
        "\n",
        "\n",
        "# return (self.vehicle_capacity*100) + ((self.vehicle_capacity*100) * 0.1)"
      ]
    },
    {
      "cell_type": "markdown",
      "source": [
        "### `Problem-2:` Class Inheritence\n",
        "\n",
        "Create a Bus class that inherits from the Vehicle class. Give the capacity argument of *Bus.seating_capacity()* a default value of 50.\n",
        "\n",
        "Use the following code for your parent Vehicle class."
      ],
      "metadata": {
        "id": "KBbGNTtQ47mJ"
      }
    },
    {
      "cell_type": "code",
      "source": [
        "class Vehicle:\n",
        "    def __init__(self,vehicle,vehicle_capacity=None):\n",
        "        self.vehicle = vehicle\n",
        "        self.vehicle_capacity = vehicle_capacity\n",
        "\n",
        "    def calculate_fare(self):\n",
        "\n",
        "        return  self.vehicle_capacity*100\n",
        "\n",
        "\n",
        "class Bus(Vehicle):\n",
        "\n",
        "    def seating_capacity(self,capacity=50):\n",
        "        self.vehicle_capacity = capacity\n",
        "        return self.vehicle_capacity\n",
        "\n",
        "    def calculate_fare(self):\n",
        "        return (self.vehicle_capacity*100) + ((self.vehicle_capacity*100) * 0.1)\n",
        "\n",
        "    def bus_fare(self):\n",
        "        print(f\"Total bus fare is: {self.calculate_fare()}\")\n",
        "bus = Bus('bus',50)\n",
        "bus.seating_capacity(70)\n",
        "(bus.bus_fare())"
      ],
      "metadata": {
        "id": "MwOnYE_14M-r"
      },
      "execution_count": null,
      "outputs": []
    },
    {
      "cell_type": "markdown",
      "source": [
        "### `Problem-3:` Write a program that has a class Point. Define another class Location which has two objects (Location & Destination) of class Point. Also define a function in Location that prints the reflection of Destination on the x axis."
      ],
      "metadata": {
        "id": "ExIxsv4y-oEd"
      }
    },
    {
      "cell_type": "code",
      "source": [
        "# Problem-3: Write a program that has a class Point. Define another class Location which has two objects (Location & Destination) of class Point. Also define a function in Location that prints the reflection of Destination on the x axis.\n",
        "\n",
        "class Point:\n",
        "    def __init__(self,x,y):\n",
        "        self.x = x\n",
        "        self.y = y\n",
        "        # print(self.x,self.y)\n",
        "\n",
        "\n",
        "class Location(Point):\n",
        "    def __init__(self,location,destination):\n",
        "        self.location = (location.x,location.y)\n",
        "        self.destination = (destination.x,destination.y)\n",
        "\n",
        "\n",
        "    def reflection(self):\n",
        "        #self.destination.y*=-1\n",
        "        print(self.destination[0],-1 * self.destination[1])\n",
        "\n",
        "\n",
        "\n",
        "# Creating points\n",
        "loc = Point(2, 3)\n",
        "dest = Point(5, 7)\n",
        "\n",
        "# Creating location with those points\n",
        "place = Location(loc, dest)\n",
        "\n",
        "# Calling the reflection method\n",
        "place.reflection()\n",
        "\n",
        "\n",
        "# Alternative code\n",
        "\n",
        "# class Point:\n",
        "#     def __init__(self,x,y):\n",
        "#         self.x = x\n",
        "#         self.y = y\n",
        "#         # print(self.x,self.y)\n",
        "\n",
        "\n",
        "# class Location:\n",
        "#     def __init__(self,location,destination):\n",
        "#         self.location = location\n",
        "#         self.destination = destination\n",
        "\n",
        "\n",
        "#     def reflection(self):\n",
        "#         #self.destination.y*=-1\n",
        "#         print(self.destination.x,-1 * self.destination.y)\n",
        "\n",
        "\n",
        "\n",
        "# # Creating points\n",
        "# loc = Point(2, 3)\n",
        "# dest = Point(5, 7)\n",
        "\n",
        "# # Creating location with those points\n",
        "# place = Location(loc, dest)\n",
        "\n",
        "# # Calling the reflection method\n",
        "# place.reflection()\n",
        "\n"
      ],
      "metadata": {
        "id": "yT2QtzQp5VAB",
        "colab": {
          "base_uri": "https://localhost:8080/"
        },
        "outputId": "120f9caa-b794-490a-ceb8-d6f422df70f7"
      },
      "execution_count": 2,
      "outputs": [
        {
          "output_type": "stream",
          "name": "stdout",
          "text": [
            "5 -7\n"
          ]
        }
      ]
    },
    {
      "cell_type": "markdown",
      "source": [
        "### `Problem-4:` Write a program that has an abstract class Polygon. Derive two classes Rectangle and Triamgle from Polygon and write methods to get the details of their dimensions and hence calculate the area."
      ],
      "metadata": {
        "id": "OcQhJvXVALgp"
      }
    },
    {
      "cell_type": "code",
      "source": [
        "from abc import ABC,abstractmethod\n",
        "\n",
        "class Polygon(ABC):\n",
        "\n",
        "    @abstractmethod\n",
        "    def dimensions(self,l,w):\n",
        "        pass\n",
        "\n",
        "\n",
        "    @abstractmethod\n",
        "    def area(self):\n",
        "        pass\n",
        "\n",
        "\n",
        "class Rectangle(Polygon):\n",
        "    def __init__(self):\n",
        "        self.leny = None\n",
        "        self.heighty = None\n",
        "\n",
        "    def dimensions(self, l, w):\n",
        "        self.leny = l\n",
        "        self.heighty = w\n",
        "\n",
        "    def area(self):\n",
        "        return self.leny * self.heighty\n",
        "\n",
        "\n",
        "rec = Rectangle()\n",
        "rec.dimensions(3,4)\n",
        "print(rec.area())"
      ],
      "metadata": {
        "id": "9IMrtdUH__eA",
        "colab": {
          "base_uri": "https://localhost:8080/"
        },
        "outputId": "9d438e02-1dde-472c-b208-e8eefa34111e"
      },
      "execution_count": 3,
      "outputs": [
        {
          "output_type": "stream",
          "name": "stdout",
          "text": [
            "12\n"
          ]
        }
      ]
    },
    {
      "cell_type": "markdown",
      "source": [
        "### `Problem-5:` Write a program with class Bill. The users have the option to pay the bill either by cheque or by cash. Use the inheritance to model this situation."
      ],
      "metadata": {
        "id": "sEsGEqOHCSWG"
      }
    },
    {
      "cell_type": "code",
      "source": [
        "class Bill:\n",
        "    def __init__(self,bill):\n",
        "        self.bill = bill\n",
        "\n",
        "\n",
        "\n",
        "class Cash(Bill):\n",
        "    def __init__(self,bill):\n",
        "        super().__init__(bill)\n",
        "        self.paid()\n",
        "\n",
        "    def paid(self):\n",
        "        print(f\"The {self.bill} bill is paid via cash\")\n",
        "\n",
        "b = Cash(200)\n",
        "\n",
        "\n",
        "class Cheque(Bill):\n",
        "    def __init__(self,bill):\n",
        "        super().__init__(bill)\n",
        "        self.paid()\n",
        "\n",
        "    def paid(self):\n",
        "        print(f\"The {self.bill} bill is paid via cheque\")\n",
        "\n",
        "b = Cheque(200)"
      ],
      "metadata": {
        "id": "l0WFyP2PB3nf",
        "colab": {
          "base_uri": "https://localhost:8080/"
        },
        "outputId": "d20fcde5-8716-497e-bdf9-be500d6a5881"
      },
      "execution_count": 4,
      "outputs": [
        {
          "output_type": "stream",
          "name": "stdout",
          "text": [
            "The 200 bill is paid via cash\n",
            "The 200 bill is paid via cheque\n"
          ]
        }
      ]
    },
    {
      "cell_type": "markdown",
      "source": [
        "###`Q-6:` FlexibleDict\n",
        "As of now we are accessing values from dictionary with exact keys. Now we want to amend accessing values functionality. if a dict have key `1` (int) the even if we try to access values by giving `'1'` (1 as str) as key, we should get the same result and vice versa.\n",
        "\n",
        "Write a class `FlexibleDict` upon builtin `dict` class with above required functionality.\n",
        "\n",
        "Hint- `dict[key] => dict.__getitem__(key)`"
      ],
      "metadata": {
        "id": "v1M5Yh9ZZO0z"
      }
    },
    {
      "cell_type": "markdown",
      "source": [
        "Ex.\n",
        "```\n",
        "fd = FlexibleDict()\n",
        "fd['a'] = 100\n",
        "print(fd['a']) # Like regular dict\n",
        "\n",
        "fd[5] = 500\n",
        "print(fd[5]) # Like regular dict\n",
        "\n",
        "fd[1] = 100\n",
        "print(fd['1']) # actual Key is int but still trying to access through str key.\n",
        "fd['1'] = 100\n",
        "print(fd[1])\n",
        "\n",
        "```\n",
        "`Output:`\n",
        "```\n",
        "100\n",
        "500\n",
        "100\n",
        "100\n",
        "\n",
        "```"
      ],
      "metadata": {
        "id": "uajGeWegbfda"
      }
    },
    {
      "cell_type": "code",
      "source": [
        "class FlexibleDict(dict):\n",
        "\n",
        "    def  __getitem__(self,key):\n",
        "\n",
        "        try:\n",
        "            a = super().__getitem__(key)\n",
        "            return a\n",
        "        except KeyError:\n",
        "                try:\n",
        "                    a = super().__getitem__(str(key))\n",
        "                    return a\n",
        "                except KeyError:\n",
        "                    a = super().__getitem__(int(key))\n",
        "                    return a\n",
        "\n",
        "\n",
        "fd  = FlexibleDict()\n",
        "fd[30] = 20\n",
        "print(fd['30'])\n",
        "\n",
        "\n",
        "\n",
        "\n"
      ],
      "metadata": {
        "id": "OHLbOtCxZ2nw",
        "colab": {
          "base_uri": "https://localhost:8080/"
        },
        "outputId": "4e73c6ac-8977-4f0a-e99d-9be57d415205"
      },
      "execution_count": 2,
      "outputs": [
        {
          "output_type": "stream",
          "name": "stdout",
          "text": [
            "20\n"
          ]
        }
      ]
    }
  ]
}