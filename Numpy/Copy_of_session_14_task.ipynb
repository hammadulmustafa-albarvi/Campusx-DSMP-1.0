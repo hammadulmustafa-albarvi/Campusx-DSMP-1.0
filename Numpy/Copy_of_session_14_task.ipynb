{
  "nbformat": 4,
  "nbformat_minor": 0,
  "metadata": {
    "colab": {
      "provenance": []
    },
    "kernelspec": {
      "name": "python3",
      "display_name": "Python 3"
    },
    "language_info": {
      "name": "python"
    }
  },
  "cells": [
    {
      "cell_type": "markdown",
      "source": [
        "###`Q-1:` Find the nearest element in the array to a given integer.\n",
        "```\n",
        "Ex:-\n",
        "a=23 and array - [10 17 24 31 38 45 52 59].\n",
        "Nearest element is 24\n",
        "```\n",
        "Hint: Read about this function `argmin()`"
      ],
      "metadata": {
        "id": "1uamk9vAix0o"
      }
    },
    {
      "cell_type": "code",
      "source": [
        "import numpy as np\n",
        "target = 23\n",
        "a = np.array([100,17,24,31,38,45,52,59])\n",
        "b = abs(a-23)\n",
        "print(a[np.argmin(b)])"
      ],
      "metadata": {
        "id": "ddkpbpR6iySZ",
        "colab": {
          "base_uri": "https://localhost:8080/"
        },
        "outputId": "97e79892-8470-4a27-c091-b5b798fa39c2"
      },
      "execution_count": 1,
      "outputs": [
        {
          "output_type": "stream",
          "name": "stdout",
          "text": [
            "24\n"
          ]
        }
      ]
    },
    {
      "cell_type": "markdown",
      "source": [
        "###`Q-2:` Replace multiples of 3 or 5 as 0 in the given array.\n",
        "```\n",
        "arr=[1 2 3 4 5 6 7 9]\n",
        "\n",
        "result-> [1 2 0 4 0 0 7 0]\n",
        "```"
      ],
      "metadata": {
        "id": "Y1QkHyPpizyp"
      }
    },
    {
      "cell_type": "code",
      "source": [
        "import numpy as np\n",
        "target = 32\n",
        "a = np.array([1,2,3,4,5,6,7,9])\n",
        "a[(a%3==0)|(a%5==0)] = 0\n",
        "print(a)"
      ],
      "metadata": {
        "id": "JjtxMlhWi25l",
        "colab": {
          "base_uri": "https://localhost:8080/"
        },
        "outputId": "28d62fc2-eb7a-40ed-a837-9c74fb345688"
      },
      "execution_count": 2,
      "outputs": [
        {
          "output_type": "stream",
          "name": "stdout",
          "text": [
            "[1 2 0 4 0 0 7 0]\n"
          ]
        }
      ]
    },
    {
      "cell_type": "markdown",
      "source": [
        "###`Q-3:` Use Fancy Indexing.\n",
        "1. Double the array elements at  given indexes\n",
        "```\n",
        "arr = np.arrange(10)\n",
        "indexes = [0,3,4,9]\n",
        "```\n",
        "Result -> `[ 0  1  2  6  8  5  6  7  8 18]`\n",
        "\n",
        "2. Using a given array make a different array as in below example\n",
        "```\n",
        "array = [1,2,3]\n",
        "result array -> [1 1 1 2 2 2 3 3 3]\n",
        "```\n",
        "* Internal-repetion should be as length of the array.\n",
        "\n",
        "Hint:\n",
        "```\n",
        "if a is an array\n",
        "a = [2,4]\n",
        "a[[1,1,0,1]] will result in-> [4 4 2 4]\n",
        "```"
      ],
      "metadata": {
        "id": "Pi_dZSwTi4OI"
      }
    },
    {
      "cell_type": "code",
      "source": [
        "#1 question\n",
        "import numpy as np\n",
        "\n",
        "arr = np.arange(10)\n",
        "indexes = [0,3,4,9]\n",
        "arr[indexes]*=2\n",
        "print(arr)\n"
      ],
      "metadata": {
        "id": "SHYuyuovi66N",
        "colab": {
          "base_uri": "https://localhost:8080/"
        },
        "outputId": "e4ebf7c2-bad3-490b-9eed-2e8b6a8c6326"
      },
      "execution_count": 6,
      "outputs": [
        {
          "output_type": "stream",
          "name": "stdout",
          "text": [
            "[ 0  1  2  6  8  5  6  7  8 18]\n"
          ]
        }
      ]
    },
    {
      "cell_type": "code",
      "source": [
        "#2 question\n",
        "import numpy as np\n",
        "\n",
        "arr = np.array([1,2,3])\n",
        "arr = np.repeat(arr,repeats=len(arr))\n",
        "print(arr)\n",
        "\n",
        "# Alternate answer(Fancing Indexing)\n",
        "import numpy as np\n",
        "\n",
        "arr = np.array([1,2,3,4])\n",
        "indexes = []\n",
        "for i in arr:\n",
        "    for j in range(3):\n",
        "        indexes.append(i-1)\n",
        "\n",
        "print(arr[indexes])"
      ],
      "metadata": {
        "colab": {
          "base_uri": "https://localhost:8080/"
        },
        "id": "oxxbFFY684LX",
        "outputId": "04a04de0-271f-41a6-debe-dce122ae5394"
      },
      "execution_count": 9,
      "outputs": [
        {
          "output_type": "stream",
          "name": "stdout",
          "text": [
            "[1 1 1 2 2 2 3 3 3]\n",
            "[1 1 1 2 2 2 3 3 3 4 4 4]\n"
          ]
        }
      ]
    },
    {
      "cell_type": "markdown",
      "source": [
        "###`Q-4:` Your are given an array which is havig some nan value. You job is to fill those nan values with most common element in the array.\n",
        "```\n",
        "arr=np.array([[1,2,np.nan],[4,2,6],[np.nan,np.nan,5]])\n",
        "\n",
        "```"
      ],
      "metadata": {
        "id": "UDehG0tFi89i"
      }
    },
    {
      "cell_type": "code",
      "source": [
        "import numpy as np\n",
        "arr=np.array([[1,2,np.nan],[4,2,6],[np.nan,np.nan,5]])\n",
        "\n",
        "ans = np.unique(arr[~(np.isnan(arr))],return_counts=True)\n",
        "\n",
        "x,y = ans\n",
        "maxi = 0\n",
        "current_index = 0\n",
        "for i in range(len(x)):\n",
        "    if y[i] > maxi:\n",
        "        maxi = y[i]\n",
        "        current_index = i\n",
        "\n",
        "arr[np.isnan(arr)] = x[current_index]\n",
        "print(arr)\n"
      ],
      "metadata": {
        "id": "YH13A6w9jEyu",
        "colab": {
          "base_uri": "https://localhost:8080/"
        },
        "outputId": "e69e7c97-5a72-4040-d3f8-3ad54788cceb"
      },
      "execution_count": 12,
      "outputs": [
        {
          "output_type": "stream",
          "name": "stdout",
          "text": [
            "[[1. 2. 2.]\n",
            " [4. 2. 6.]\n",
            " [2. 2. 5.]]\n"
          ]
        }
      ]
    },
    {
      "cell_type": "markdown",
      "source": [
        "### `Q-5:` Write a NumPy program\n",
        "\n",
        "- to find the missing data in a given array. Return a boolean matrix.\n",
        "- also try to fill those missing values with 0. For that, you can use `np.nan_to_num(a)`\n",
        "\n",
        "```python\n",
        "import numpy as np\n",
        "\n",
        "np.array([[3, 2, np.nan, 1],\n",
        "          [10, 12, 10, 9],\n",
        "          [5, np.nan, 1, np.nan]])\n",
        "```"
      ],
      "metadata": {
        "id": "Tk2JnioUjJ_t"
      }
    },
    {
      "cell_type": "code",
      "source": [
        "import numpy as np\n",
        "\n",
        "arr = np.array([[3, 2, np.nan, 1],\n",
        "          [10, 12, 10, 9],\n",
        "          [5, np.nan, 1, np.nan]])\n",
        "\n",
        "arr = np.where(np.isnan(arr),0,1)\n",
        "print(arr)\n",
        "\n",
        "\n",
        "\n",
        "import numpy as np\n",
        "\n",
        "arr = np.array([[3, 2, np.nan, 1],\n",
        "          [10, 12, 10, 9],\n",
        "          [5, np.nan, 1, np.nan]])\n",
        "\n",
        "arr = np.nan_to_num(arr)\n",
        "print(arr)"
      ],
      "metadata": {
        "id": "nPEBTQJ_jJZe",
        "colab": {
          "base_uri": "https://localhost:8080/"
        },
        "outputId": "165de4a8-5a7c-41ea-d257-0307b438857f"
      },
      "execution_count": 14,
      "outputs": [
        {
          "output_type": "stream",
          "name": "stdout",
          "text": [
            "[[1 1 0 1]\n",
            " [1 1 1 1]\n",
            " [1 0 1 0]]\n",
            "[[ 3.  2.  0.  1.]\n",
            " [10. 12. 10.  9.]\n",
            " [ 5.  0.  1.  0.]]\n"
          ]
        }
      ]
    },
    {
      "cell_type": "markdown",
      "source": [
        "###`Q-6:` Given two arrays, X and Y, construct the Cauchy matrix C.\n",
        "`Cij =1/(xi - yj)`\n",
        "\n",
        "http://en.wikipedia.org/wiki/Cauchy_matrix\n",
        "```\n",
        "x = numpy.array([1,2,3,4]).reshape((-1, 1)\n",
        "y = numpy.array([5,6,7])\n",
        "```"
      ],
      "metadata": {
        "id": "FFUnZtG7jNBH"
      }
    },
    {
      "cell_type": "code",
      "source": [
        "import numpy as np\n",
        "\n",
        "def cauchy_matrix(x,y):\n",
        "    return (1/(x-y))\n",
        "\n",
        "\n",
        "x = np.array([1,2,3,4]).reshape((-1, 1))\n",
        "y = np.array([5,6,7])\n",
        "\n",
        "print(cauchy_matrix(x,y))"
      ],
      "metadata": {
        "id": "pQXHa38TjVEh",
        "colab": {
          "base_uri": "https://localhost:8080/"
        },
        "outputId": "d0e93aae-b642-4b84-d4d8-f4bc341738c4"
      },
      "execution_count": 15,
      "outputs": [
        {
          "output_type": "stream",
          "name": "stdout",
          "text": [
            "[[-0.25       -0.2        -0.16666667]\n",
            " [-0.33333333 -0.25       -0.2       ]\n",
            " [-0.5        -0.33333333 -0.25      ]\n",
            " [-1.         -0.5        -0.33333333]]\n"
          ]
        }
      ]
    },
    {
      "cell_type": "markdown",
      "source": [
        "###`Q-7:` Plot this below equation.\n",
        "\n",
        "$$\\large y = \\frac{e^x - e^{-x}}{e^x + e^{-x}}$$\n",
        "\n",
        "**Note: This equation is called tanh activation function. In deep learning, many times this function is used. If you find some difference between the sigmoid function and this tanh function, note that to your notebook.**"
      ],
      "metadata": {
        "id": "EbkHZCF1jWNc"
      }
    },
    {
      "cell_type": "code",
      "source": [
        "import numpy as np\n",
        "import matplotlib.pyplot as plt\n",
        "\n",
        "def tanh(a):\n",
        "    return (np.divide((np.exp(a) - np.exp(-(a))),(np.exp(a) + np.exp(-(a)))))\n",
        "\n",
        "x  = np.linspace(-10,10,100)\n",
        "\n",
        "y = tanh(x)\n",
        "plt.plot(x,y)"
      ],
      "metadata": {
        "id": "n6OcN--FjbLC",
        "colab": {
          "base_uri": "https://localhost:8080/",
          "height": 447
        },
        "outputId": "955f901d-3943-4627-cab0-88c08de1a9a3"
      },
      "execution_count": 22,
      "outputs": [
        {
          "output_type": "execute_result",
          "data": {
            "text/plain": [
              "[<matplotlib.lines.Line2D at 0x7b89d174d910>]"
            ]
          },
          "metadata": {},
          "execution_count": 22
        },
        {
          "output_type": "display_data",
          "data": {
            "text/plain": [
              "<Figure size 640x480 with 1 Axes>"
            ],
            "image/png": "[encoded data removed]"
          },
          "metadata": {}
        }
      ]
    },
    {
      "cell_type": "markdown",
      "source": [
        "### `Q-8:` Plot the below equation.\n",
        "\n",
        "$$\\large y = \\sqrt{36 - (x - 4)^2} + 2$$\n",
        "\n",
        "The range of x should be between -2 to 10. $x ∈ [-2, 10]$\n",
        "\n"
      ],
      "metadata": {
        "id": "xujS-pu4jciH"
      }
    },
    {
      "cell_type": "code",
      "source": [
        "import numpy as np\n",
        "import matplotlib.pyplot as plt\n",
        "\n",
        "def equation(a):\n",
        "    return (np.sqrt(36 - (a-4)**2 )+2)\n",
        "\n",
        "a  = np.linspace(-2,10,100)\n",
        "\n",
        "y = equation(a)\n",
        "\n",
        "plt.plot(a,y)"
      ],
      "metadata": {
        "id": "7CagwKP_jhIQ",
        "colab": {
          "base_uri": "https://localhost:8080/",
          "height": 447
        },
        "outputId": "caa86306-afc5-43ba-da1f-909b8b305e2d"
      },
      "execution_count": 27,
      "outputs": [
        {
          "output_type": "execute_result",
          "data": {
            "text/plain": [
              "[<matplotlib.lines.Line2D at 0x7b89d14edc90>]"
            ]
          },
          "metadata": {},
          "execution_count": 27
        },
        {
          "output_type": "display_data",
          "data": {
            "text/plain": [
              "<Figure size 640x480 with 1 Axes>"
            ],
            "image/png": "[encoded data removed]"
          },
          "metadata": {}
        }
      ]
    },
    {
      "cell_type": "markdown",
      "source": [
        "### `Q-9:` Write a program implement Boradcasting Rule to check if two array can be added or not.\n",
        "Given tuples of shapes.\n",
        "```\n",
        "shape of a- (3,2,2)\n",
        "shape of b- (2,2)\n",
        "\n",
        "check_broadcast(a, b) -> return Boolean (True if can broadcasted, False other wise.)\n",
        "```"
      ],
      "metadata": {
        "id": "Jf14pxCfjiX1"
      }
    },
    {
      "cell_type": "code",
      "source": [
        "import numpy as np\n",
        "\n",
        "a = np.arange(12).reshape(3,4)\n",
        "b = np.arange(2).reshape(2,1)\n",
        "\n",
        "def add_one(a):\n",
        "    ans = []\n",
        "    for i in a.shape:\n",
        "        ans.append(i)\n",
        "    return ans\n",
        "\n",
        "\n",
        "def broad_casting(a,b):\n",
        "    if a.ndim != b.ndim:\n",
        "        if a.ndim > b.ndim:\n",
        "            b = b.reshape(1,*(add_one(b)))\n",
        "            a_shape = list(a.shape)\n",
        "            b_shape = list(b.shape)\n",
        "\n",
        "            for i in range(len(a.shape)):\n",
        "                while b_shape[i] < a_shape[i]:\n",
        "                    b_shape[i]+=1\n",
        "\n",
        "            if a_shape == b_shape:\n",
        "                return 1\n",
        "\n",
        "        elif a.ndim < b.ndim:\n",
        "            a = a.reshape(1,*(add_one(a)))\n",
        "            a_shape = list(a.shape)\n",
        "            b_shape = list(b.shape)\n",
        "\n",
        "            for i in range(len(b.shape)):\n",
        "                while a_shape[i] < b_shape[i]:\n",
        "                    a_shape[i]+=1\n",
        "\n",
        "            if a_shape == b_shape:\n",
        "                return 1\n",
        "\n",
        "    else:\n",
        "        a_shape = list(a.shape)\n",
        "        b_shape = list(b.shape)\n",
        "        for i in range(len(a.shape)):\n",
        "            if a_shape[i] < b_shape[i] and a_shape[i] == 1:\n",
        "                while a_shape[i] < b_shape[i]:\n",
        "                    a_shape[i]+=1\n",
        "            elif a_shape[i] > b_shape[i] and b_shape[i] == 1:\n",
        "                while a_shape[i] > b_shape[i]:\n",
        "                    b_shape[i]+=1\n",
        "        if a_shape == b_shape:\n",
        "            return 1\n",
        "    return 0\n",
        "\n",
        "print(broad_casting(a,b) == 1)\n",
        ""
      ],
      "metadata": {
        "colab": {
          "base_uri": "https://localhost:8080/"
        },
        "id": "w2fGZJezq2jF",
        "outputId": "460e054e-3659-45dc-d2ac-76bcb09fb34d"
      },
      "execution_count": 51,
      "outputs": [
        {
          "output_type": "stream",
          "name": "stdout",
          "text": [
            "False\n"
          ]
        }
      ]
    },
    {
      "cell_type": "code",
      "source": [],
      "metadata": {
        "id": "Wb1-SYlOsGnS"
      },
      "execution_count": null,
      "outputs": []
    }
  ]
}