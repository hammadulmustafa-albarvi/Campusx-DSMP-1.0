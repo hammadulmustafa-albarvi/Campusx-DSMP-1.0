{
  "nbformat": 4,
  "nbformat_minor": 0,
  "metadata": {
    "colab": {
      "provenance": []
    },
    "kernelspec": {
      "name": "python3",
      "display_name": "Python 3"
    },
    "language_info": {
      "name": "python"
    }
  },
  "cells": [
    {
      "cell_type": "markdown",
      "source": [
        "### `Problem-1:` Breaking the records.\n",
        "\n",
        "Maria plays college basketball and wants to go pro. Each season she maintains a record of her play. She tabulates the number of times she breaks her season record for most points and least points in a game. Points scored in the first game establish her record for the season, and she begins counting from there.\n",
        "\n",
        "**Example**\n",
        "\n",
        "*scores = [12, 24, 10, 24]*\n",
        "\n",
        "Scores are in the same order as the games played. She tabulates her results as follows:\n",
        "\n",
        "| Game | Score | Minimum | Maximum | Count Min | Count Max |\n",
        "| :--: | :--: | :--: | :--: | :--: | :--: |\n",
        "| 0 | 12 | 12 | 12 | 0 | 0 |\n",
        "| 1 | 24 | 12 | 24 | 0 | 1 |\n",
        "| 2 | 10 | 10 | 24 | 1 | 1 |\n",
        "| 3 | 24 | 10 | 24 | 1 | 1 |\n",
        "\n",
        "Given the scores for a season, determine the number of times Maria breaks her records for most and least points scored during the season.\n",
        "\n",
        "**Function Description**\n",
        "\n",
        "Complete the breakingRecords function in the editor below.\n",
        "\n",
        "breakingRecords has the following parameter(s):\n",
        "- n: no of games\n",
        "- int scores[n]: points scored per game\n",
        "\n",
        "**Returns**\n",
        "\n",
        "- int[2]: An array with the numbers of times she broke her records. Index 0 is for breaking most points records, and index 1 is for breaking least points records.\n",
        "\n",
        "**Input Format**\n",
        "\n",
        "n, the number of games.\n",
        "Integers array osf scores describing the respective values of $score_0, score_1, score_2, ..., score_{n-1}$.\n",
        "\n",
        "**Constraints**\n",
        "\n",
        "- $1 <= n <= 1000$\n",
        "- $0 <= scores[i] <= 10^8$\n",
        "\n",
        "**Sample Input 0**\n",
        "\n",
        "```bash\n",
        "10 5 20 20 4 5 2 25 1\n",
        "```\n",
        "\n",
        "**Sample Output 0**\n",
        "\n",
        "```bash\n",
        "2 4\n",
        "```\n",
        "\n",
        "**Explanation 0**\n",
        "\n",
        "The diagram below depicts the number of times Maria broke her best and worst records throughout the season:\n",
        "\n",
        "| Games | 0 | 1 | 2 | 3 | 4 | 5 | 6 | 7 | 8 |\n",
        "| :--: | :--: | :--: | :--: | :--: | :--: | :--: | :--: | :--: | :--: |\n",
        "| **Score** | 10 | 5 | 20 | 20 | 4 | 5 | 2 | 25 | 1 |\n",
        "| **Highest Score** | 10 | 10 | **20** | 20 | 20 | 20 | 20 | **25** | 25 |\n",
        "| **Lowest Score** | 10 | **5** | 5 | 5 | **4** | 4 | **2** | 2 | **1** |\n",
        "\n",
        "She broke her best record twice (after games 2 and 7) and her worst record four times (after games 1, 4, 6, and 8), so we print 2 4 as our answer. Note that she did not break her record for best score during game 3, as her score during that game was not strictly greater than her best record at the time."
      ],
      "metadata": {
        "id": "0u3ztiuDPUxb"
      }
    },
    {
      "cell_type": "code",
      "execution_count": null,
      "metadata": {
        "colab": {
          "base_uri": "https://localhost:8080/"
        },
        "id": "kVxbY5NcPBJZ",
        "outputId": "49b96b3a-9b58-4b30-c539-ace8b8b20eeb"
      },
      "outputs": [
        {
          "output_type": "stream",
          "name": "stdout",
          "text": [
            "[2, 4]\n"
          ]
        }
      ],
      "source": [
        "def breaking_records(n,arr):\n",
        "    high_score = arr[0]\n",
        "    low_score = arr[0]\n",
        "    ans = [0,0]\n",
        "    for i in range(1,n):\n",
        "        if arr[i] > high_score:\n",
        "            high_score = arr[i]\n",
        "            ans[0]+=1\n",
        "        elif arr[i] < low_score:\n",
        "            low_score = arr[i]\n",
        "            ans[1]+=1\n",
        "\n",
        "    return ans\n",
        "print(breaking_records(9,[10, 5, 20, 20, 4, 5, 2, 25, 1]))"
      ]
    },
    {
      "cell_type": "markdown",
      "source": [
        "### `Problem-2:` Student management system in Python\n",
        "\n",
        "Write a program to build a simple Student Management System using Python which can perform the following operations:\n",
        "1. **Accept -** This method takes details from the user like name, roll number, and marks for two different subjects.\n",
        "2. **Display -** This method displays the details of every student.\n",
        "3. **Search -** This method searches for a particular student from the list of students. This method will ask the user for roll number and then search according to the roll number\n",
        "4. **Delete -** This method deletes the record of a particular student with a matching roll number.\n",
        "5. **Update -**  This method updates the roll number of the student. This method will ask for the old roll number and new roll number. It will replace the old roll number with a new roll number."
      ],
      "metadata": {
        "id": "pqWU1fHaTDYA"
      }
    },
    {
      "cell_type": "code",
      "source": [
        "class Student:\n",
        "\n",
        "    def __init__(self):\n",
        "        self.name = None\n",
        "        self.roll_no = None\n",
        "        self.marks = None\n",
        "        self.roll_no_data = []\n",
        "        self.student_data = {}\n",
        "\n",
        "    def accept(self,name,roll_no,marks):\n",
        "        self.name = name\n",
        "        self.roll_no = roll_no\n",
        "        self.marks = marks\n",
        "        self.roll_no_data.append(self.roll_no)\n",
        "        self.student_data[roll_no] = [self.name,self.marks]\n",
        "\n",
        "\n",
        "    def display(self):\n",
        "        for i in self.student_data:\n",
        "            print(f\"Roll no: {i}\\nName: {self.student_data[i][0]}\\nMarks: {self.student_data[i][1]}\")\n",
        "\n",
        "\n",
        "    def search(self,roll_no):\n",
        "        if roll_no in self.roll_no_data:\n",
        "            return f\"Name: {self.student_data[roll_no][0]}\\nMarks: {self.student_data[roll_no][1]}\"\n",
        "        else:\n",
        "            return f\"Student Not found\"\n",
        "\n",
        "    def delete(self,roll_no):\n",
        "        if roll_no in self.roll_no_data:\n",
        "            self.roll_no_data.remove(roll_no)\n",
        "            del self.student_data[roll_no]\n",
        "            return f\"Data Deleted Successfully\"\n",
        "        else:\n",
        "            return f\"Roll no not found\"\n",
        "\n",
        "    def update(self,old_rollno,new_rollno):\n",
        "        if old_rollno in self.student_data:\n",
        "            backup_data = self.student_data[old_rollno]\n",
        "            old_student_name,old_student_marks = backup_data\n",
        "            for i in range(len(self.roll_no_data)):\n",
        "                if self.roll_no_data[i] == old_rollno:\n",
        "                    self.roll_no_data[i] = new_rollno\n",
        "            del self.student_data[old_rollno]\n",
        "            self.student_data[new_rollno] = [old_student_name,old_student_marks]\n",
        "            return f\"Student Data Updated\"\n",
        "        else:\n",
        "            return f\"Student Roll no not present in data\"\n",
        "\n"
      ],
      "metadata": {
        "id": "b8wBW39hTClt"
      },
      "execution_count": null,
      "outputs": []
    },
    {
      "cell_type": "markdown",
      "source": [
        "Problem-3: Get current times of different time zones in Python"
      ],
      "metadata": {
        "id": "-h78hH1whNY4"
      }
    },
    {
      "cell_type": "code",
      "source": [
        "from datetime import datetime\n",
        "import pytz\n",
        "\n",
        "pk_time = pytz.timezone('Asia/karachi')\n",
        "\n",
        "print(datetime.now(pk_time))"
      ],
      "metadata": {
        "colab": {
          "base_uri": "https://localhost:8080/"
        },
        "id": "NxR59Ix_hNK2",
        "outputId": "38d2983a-50e5-49e5-f368-6ef09ee73f02"
      },
      "execution_count": null,
      "outputs": [
        {
          "output_type": "stream",
          "name": "stdout",
          "text": [
            "2025-07-16 09:55:42.795535+05:00\n"
          ]
        }
      ]
    },
    {
      "cell_type": "markdown",
      "source": [
        "# `Problem-4:` Python program to count Even and Odd numbers in a List using list comprehension.\n",
        "\n",
        "Given a list of numbers, write a Python program to count Even and Odd numbers in a List.\n",
        "\n",
        "**Example:**\n",
        "\n",
        "```bash\n",
        "Input: list1 = [2, 7, 5, 64, 14]\n",
        "Output: Even = 3, odd = 2\n",
        "\n",
        "Input: list2 = [12, 14, 95, 3]\n",
        "Output: Even = 2, odd = 2\n",
        "```"
      ],
      "metadata": {
        "id": "RIx2VvuRluKP"
      }
    },
    {
      "cell_type": "code",
      "source": [
        "list1 = [2, 7, 5, 64, 14]\n",
        "even = lambda x : x if x%2==0 else 0\n",
        "odd = lambda x : x if x%2!=0 else 0\n",
        "Even_number_count = len(list(filter(even,list1)))\n",
        "odd_number_count = len(list(filter(odd,list1)))\n",
        "print(Even_number_count)\n",
        "print(odd_number_count)\n"
      ],
      "metadata": {
        "id": "uTyVuG4zluda"
      },
      "execution_count": null,
      "outputs": []
    },
    {
      "cell_type": "markdown",
      "source": [
        "### `Problem-5:` Alphabet Rangoli\n",
        "\n",
        "You are given an integer, $N$. Your task is to print an alphabet rangoli of size\n",
        "\n",
        "$N$. (Rangoli is a form of Indian folk art based on creation of patterns.)\n",
        "\n",
        "Different sizes of alphabet rangoli are shown below:\n",
        "\n",
        "```bash\n",
        "#size 3\n",
        "\n",
        "----c----\n",
        "--c-b-c--\n",
        "c-b-a-b-c\n",
        "--c-b-c--\n",
        "----c----\n",
        "\n",
        "#size 5\n",
        "\n",
        "--------e--------\n",
        "------e-d-e------\n",
        "----e-d-c-d-e----\n",
        "--e-d-c-b-c-d-e--\n",
        "e-d-c-b-a-b-c-d-e\n",
        "--e-d-c-b-c-d-e--\n",
        "----e-d-c-d-e----\n",
        "------e-d-e------\n",
        "--------e--------\n",
        "\n",
        "#size 10\n",
        "\n",
        "------------------j------------------\n",
        "----------------j-i-j----------------\n",
        "--------------j-i-h-i-j--------------\n",
        "------------j-i-h-g-h-i-j------------\n",
        "----------j-i-h-g-f-g-h-i-j----------\n",
        "--------j-i-h-g-f-e-f-g-h-i-j--------\n",
        "------j-i-h-g-f-e-d-e-f-g-h-i-j------\n",
        "----j-i-h-g-f-e-d-c-d-e-f-g-h-i-j----\n",
        "--j-i-h-g-f-e-d-c-b-c-d-e-f-g-h-i-j--\n",
        "j-i-h-g-f-e-d-c-b-a-b-c-d-e-f-g-h-i-j\n",
        "--j-i-h-g-f-e-d-c-b-c-d-e-f-g-h-i-j--\n",
        "----j-i-h-g-f-e-d-c-d-e-f-g-h-i-j----\n",
        "------j-i-h-g-f-e-d-e-f-g-h-i-j------\n",
        "--------j-i-h-g-f-e-f-g-h-i-j--------\n",
        "----------j-i-h-g-f-g-h-i-j----------\n",
        "------------j-i-h-g-h-i-j------------\n",
        "--------------j-i-h-i-j--------------\n",
        "----------------j-i-j----------------\n",
        "------------------j------------------\n",
        "```\n",
        "\n",
        "The center of the rangoli has the first alphabet letter a, and the boundary has the $N^{th}$alphabet letter (in alphabetical order)."
      ],
      "metadata": {
        "id": "6nM7qlZToQu6"
      }
    },
    {
      "cell_type": "code",
      "source": [
        "n = 20\n",
        "l = 'abcdefghijklmnopqrstuvwxyz'\n",
        "\n",
        "for i in range(0,n-1):\n",
        "    a = '-'.join([str(l[(i-1)%26]) for i in range(n,n-i-1,-1)])\n",
        "    print('-'*((n-(i+1))*2)+a+a[-2::-1]+'-'*((n-(i+1))*2))\n",
        "\n",
        "\n",
        "for i in range(n-1,-1,-1):\n",
        "\n",
        "    a = '-'.join([str(l[(i-1)%26]) for i in range(n,n-i-1,-1)])\n",
        "    print('-'*((n-(i+1))*2)+a+a[-2::-1]+'-'*((n-(i+1))*2))"
      ],
      "metadata": {
        "colab": {
          "base_uri": "https://localhost:8080/"
        },
        "id": "tlFM2KlYv4vw",
        "outputId": "8165e378-9d0f-417f-8408-dce2cbce8579"
      },
      "execution_count": null,
      "outputs": [
        {
          "output_type": "stream",
          "name": "stdout",
          "text": [
            "--------------------------------------t--------------------------------------\n",
            "------------------------------------t-s-t------------------------------------\n",
            "----------------------------------t-s-r-s-t----------------------------------\n",
            "--------------------------------t-s-r-q-r-s-t--------------------------------\n",
            "------------------------------t-s-r-q-p-q-r-s-t------------------------------\n",
            "----------------------------t-s-r-q-p-o-p-q-r-s-t----------------------------\n",
            "--------------------------t-s-r-q-p-o-n-o-p-q-r-s-t--------------------------\n",
            "------------------------t-s-r-q-p-o-n-m-n-o-p-q-r-s-t------------------------\n",
            "----------------------t-s-r-q-p-o-n-m-l-m-n-o-p-q-r-s-t----------------------\n",
            "--------------------t-s-r-q-p-o-n-m-l-k-l-m-n-o-p-q-r-s-t--------------------\n",
            "------------------t-s-r-q-p-o-n-m-l-k-j-k-l-m-n-o-p-q-r-s-t------------------\n",
            "----------------t-s-r-q-p-o-n-m-l-k-j-i-j-k-l-m-n-o-p-q-r-s-t----------------\n",
            "--------------t-s-r-q-p-o-n-m-l-k-j-i-h-i-j-k-l-m-n-o-p-q-r-s-t--------------\n",
            "------------t-s-r-q-p-o-n-m-l-k-j-i-h-g-h-i-j-k-l-m-n-o-p-q-r-s-t------------\n",
            "----------t-s-r-q-p-o-n-m-l-k-j-i-h-g-f-g-h-i-j-k-l-m-n-o-p-q-r-s-t----------\n",
            "--------t-s-r-q-p-o-n-m-l-k-j-i-h-g-f-e-f-g-h-i-j-k-l-m-n-o-p-q-r-s-t--------\n",
            "------t-s-r-q-p-o-n-m-l-k-j-i-h-g-f-e-d-e-f-g-h-i-j-k-l-m-n-o-p-q-r-s-t------\n",
            "----t-s-r-q-p-o-n-m-l-k-j-i-h-g-f-e-d-c-d-e-f-g-h-i-j-k-l-m-n-o-p-q-r-s-t----\n",
            "--t-s-r-q-p-o-n-m-l-k-j-i-h-g-f-e-d-c-b-c-d-e-f-g-h-i-j-k-l-m-n-o-p-q-r-s-t--\n",
            "t-s-r-q-p-o-n-m-l-k-j-i-h-g-f-e-d-c-b-a-b-c-d-e-f-g-h-i-j-k-l-m-n-o-p-q-r-s-t\n",
            "--t-s-r-q-p-o-n-m-l-k-j-i-h-g-f-e-d-c-b-c-d-e-f-g-h-i-j-k-l-m-n-o-p-q-r-s-t--\n",
            "----t-s-r-q-p-o-n-m-l-k-j-i-h-g-f-e-d-c-d-e-f-g-h-i-j-k-l-m-n-o-p-q-r-s-t----\n",
            "------t-s-r-q-p-o-n-m-l-k-j-i-h-g-f-e-d-e-f-g-h-i-j-k-l-m-n-o-p-q-r-s-t------\n",
            "--------t-s-r-q-p-o-n-m-l-k-j-i-h-g-f-e-f-g-h-i-j-k-l-m-n-o-p-q-r-s-t--------\n",
            "----------t-s-r-q-p-o-n-m-l-k-j-i-h-g-f-g-h-i-j-k-l-m-n-o-p-q-r-s-t----------\n",
            "------------t-s-r-q-p-o-n-m-l-k-j-i-h-g-h-i-j-k-l-m-n-o-p-q-r-s-t------------\n",
            "--------------t-s-r-q-p-o-n-m-l-k-j-i-h-i-j-k-l-m-n-o-p-q-r-s-t--------------\n",
            "----------------t-s-r-q-p-o-n-m-l-k-j-i-j-k-l-m-n-o-p-q-r-s-t----------------\n",
            "------------------t-s-r-q-p-o-n-m-l-k-j-k-l-m-n-o-p-q-r-s-t------------------\n",
            "--------------------t-s-r-q-p-o-n-m-l-k-l-m-n-o-p-q-r-s-t--------------------\n",
            "----------------------t-s-r-q-p-o-n-m-l-m-n-o-p-q-r-s-t----------------------\n",
            "------------------------t-s-r-q-p-o-n-m-n-o-p-q-r-s-t------------------------\n",
            "--------------------------t-s-r-q-p-o-n-o-p-q-r-s-t--------------------------\n",
            "----------------------------t-s-r-q-p-o-p-q-r-s-t----------------------------\n",
            "------------------------------t-s-r-q-p-q-r-s-t------------------------------\n",
            "--------------------------------t-s-r-q-r-s-t--------------------------------\n",
            "----------------------------------t-s-r-s-t----------------------------------\n",
            "------------------------------------t-s-t------------------------------------\n",
            "--------------------------------------t--------------------------------------\n"
          ]
        }
      ]
    },
    {
      "cell_type": "markdown",
      "source": [
        "### `Problem-6:` Compress a string!\n",
        "\n",
        "You are given a string $S$. Suppose a character '$c$' occurs consecutively $X$ times in the string. Replace these consecutive occurrences of the character '$c$' with $$(X, c) in the string. For a better understanding of the problem, check the explanation.\n",
        "\n",
        "**Input Format:**\n",
        "\n",
        "A single line of input consisting of the string $S$.\n",
        "\n",
        "**Output Format:**\n",
        "\n",
        "A single line of output consisting of the modified string.\n",
        "\n",
        "**Sample Input:**\n",
        "\n",
        "```bash\n",
        "1222311\n",
        "```\n",
        "\n",
        "**Sample Output:**\n",
        "\n",
        "```bash\n",
        "(1, 1) (3, 2) (1, 3) (2, 1)\n",
        "```\n",
        "\n",
        "**Explanation:**\n",
        "\n",
        "First, the character occurs only once. It is replaced by (1, 1). Then the character 2 occurs three times, and it is replaced by (3, 2 )and so on. Also, note the single space within each compression and between the compressions."
      ],
      "metadata": {
        "id": "DLXKeU2Lb8_2"
      }
    },
    {
      "cell_type": "code",
      "source": [
        "def recursive_count(arr):\n",
        "\n",
        "    if len(arr) == 0:\n",
        "        return \"\"\n",
        "\n",
        "    index = 0\n",
        "    while index < (len(arr)-1) and arr[index] == arr[index+1]:\n",
        "        index+=1\n",
        "\n",
        "    ans = (index+1,arr[index])\n",
        "\n",
        "    return str(ans) + \" \" + str(recursive_count(arr[index+1:]))\n",
        "\n",
        "\n",
        "print(recursive_count([1,2,2,2,3,1,1]))"
      ],
      "metadata": {
        "colab": {
          "base_uri": "https://localhost:8080/"
        },
        "id": "wSEcBZqjb8yK",
        "outputId": "34d820d2-df56-4782-e5f8-143e5c4e2d2d"
      },
      "execution_count": null,
      "outputs": [
        {
          "output_type": "stream",
          "name": "stdout",
          "text": [
            "(1, 1) (3, 2) (1, 3) (2, 1) \n"
          ]
        }
      ]
    },
    {
      "cell_type": "markdown",
      "source": [
        "### `Problem-7:` Word order\n",
        "\n",
        "You are given words. Some words may repeat. For each word, output its number of occurrences. The output order should correspond with the input order of appearance of the word. See the sample input/output for clarification.\n",
        "\n",
        "*Note: Each input line ends with a **\"\\n\"** character.*\n",
        "\n",
        "**Input Format:**\n",
        "\n",
        "The first line contains the integer, $n$.\n",
        "\n",
        "The next $n$ lines each contain a word.\n",
        "\n",
        "**Output Format:**\n",
        "\n",
        "Output $2$ lines.\n",
        "\n",
        "On the first line, output the number of distinct words from the input.\n",
        "\n",
        "On the second line, output the number of occurrences for each distinct word according to their appearance in the input.\n",
        "\n",
        "**Sample Input:**\n",
        "\n",
        "```bash\n",
        "4\n",
        "bcdef\n",
        "abcdefg\n",
        "bcde\n",
        "bcdef\n",
        "```\n",
        "\n",
        "**Sample output:**\n",
        "\n",
        "```bash\n",
        "3\n",
        "2 1 1\n",
        "```\n",
        "\n",
        "**Explanation:**\n",
        "\n",
        "There are $3$ distinct words. Here, \"bcdef\" appears twice in the input at the first and last positions. The other words appear once each. The order of the first appearances are \"bcdef\", \"abcdefg\" and \"bcde\" which corresponds to the output."
      ],
      "metadata": {
        "id": "4mfbh4QrgRBG"
      }
    },
    {
      "cell_type": "code",
      "source": [
        "d = {}\n",
        "n = int(input(\"Enter number: \"))\n",
        "for i in range(n):\n",
        "  word = input(\"Enter word: \")\n",
        "  if word in d:\n",
        "    d[word]+=1\n",
        "  else:\n",
        "    d[word]=1\n",
        "print(len(d))\n",
        "for i in d:\n",
        "    print(d[i],end=' ')\n",
        "\n"
      ],
      "metadata": {
        "colab": {
          "base_uri": "https://localhost:8080/"
        },
        "id": "emjijMkVgTtf",
        "outputId": "be87a25d-675a-41a7-f8ef-c693f188dfd4"
      },
      "execution_count": null,
      "outputs": [
        {
          "output_type": "stream",
          "name": "stdout",
          "text": [
            "Enter number: 4\n",
            "Enter word: bcdef\n",
            "Enter word: abcdefg\n",
            "Enter word: bcde\n",
            "Enter word: bcdef\n",
            "2 1 1 "
          ]
        }
      ]
    },
    {
      "cell_type": "markdown",
      "source": [
        "### `Problem-8:`Iterables & Iterators\n",
        "\n",
        "You are given a list of $N$ lowercase English letters. For a given integer $K$, you can select any $K$ indices (assume 1-based indexing) with a uniform probability from the list. Find the probability that at least one of the $K$ indices selected will contain the letter '$a$'.\n",
        "\n",
        "**Input Format:**\n",
        "\n",
        "The input consists of three lines. The first line contains the integer $N$, enoting the length of the list. The next line consists of &N& space-separated lowercase English letters, denoting the elements of the list.\n",
        "\n",
        "The third and the last line of input contains the integer $K$, denoting the number of indices to be selected.\n",
        "\n",
        "**Output Format:**\n",
        "\n",
        "Output a single line consisting of the probability that at least one of the $K$ indices selected contains the letter '$a$'.\n",
        "\n",
        "Note: The answer must be correct up to 3 decimal places.\n",
        "\n",
        "**Sample Input:**\n",
        "\n",
        "```bash\n",
        "4\n",
        "a a c d\n",
        "2\n",
        "```\n",
        "\n",
        "**Sample Output:**\n",
        "\n",
        "```bash\n",
        "0.8333\n",
        "```\n",
        "\n",
        "**Explanation:**\n",
        "\n",
        "All possible unordered tuples of length 2 comprising of indices from 1 to 4 are:\n",
        "(1, 2), (1, 3), (1, 4), (2, 3), (2, 4), (3, 4)\n",
        "\n",
        "Out of these 6 combinations, 5 of them contain either index 1 or index 2 which are the indices that contain the letter '$a$'. Hence, the answer is $\\frac{5}{6}$"
      ],
      "metadata": {
        "id": "loZVOFsVxB3u"
      }
    },
    {
      "cell_type": "code",
      "source": [
        "from itertools import combinations\n",
        "count=0\n",
        "total=0\n",
        "n = int(input(\"Enter length of list: \"))\n",
        "l = input(\"Enter list: \").split()\n",
        "k = int(input(\"Enter size of tuple: \"))\n",
        "\n",
        "ans = list(combinations(l,k))\n",
        "for i in ans:\n",
        "  if 'a' in i:\n",
        "    count+=1\n",
        "    total+=1\n",
        "  else:\n",
        "    total+=1\n",
        "print(f\"{(count/total):.4f}\")"
      ],
      "metadata": {
        "id": "kTchjdnDwPWw",
        "colab": {
          "base_uri": "https://localhost:8080/"
        },
        "outputId": "4fdf08e9-52d7-49fe-dac2-00f22dc7e583"
      },
      "execution_count": null,
      "outputs": [
        {
          "output_type": "stream",
          "name": "stdout",
          "text": [
            "Enter length of list: 4\n",
            "Enter list: a a c d\n",
            "Enter size of tuple: 2\n",
            "0.8333\n"
          ]
        }
      ]
    },
    {
      "cell_type": "markdown",
      "source": [
        "### `Problem-9:` The Captain's Room\n",
        "\n",
        "Mr. Anant Asankhya is the manager at the INFINITE hotel. The hotel has an infinite amount of rooms.\n",
        "\n",
        "One fine day, a finite number of tourists come to stay at the hotel.\n",
        "The tourists consist of:\n",
        "\n",
        "→ A Captain.\n",
        "\n",
        "→ An unknown group of families consisting of $K$ members per group where $K ≠ 1$\n",
        "\n",
        "The Captain was given a separate room, and the rest were given one room per group.\n",
        "\n",
        "Mr. Anant has an unordered list of randomly arranged room entries. The list consists of the room numbers for all of the tourists. The room numbers will appear $K$ times per group except for the Captain's room.\n",
        "\n",
        "Mr. Anant needs you to help him find the Captain's room number.\n",
        "The total number of tourists or the total number of groups of families is not known to you. You only know the value of $K$ and the room number list.\n",
        "\n",
        "**Input Format:**\n",
        "\n",
        "The first line consists of an integer, $K$, the size of each group.\n",
        "\n",
        "The second line contains the unordered elements of the room number list.\n",
        "\n",
        "**Output Format:**\n",
        "\n",
        "Output the Captain's room number.\n",
        "\n",
        "**Sample Input:**\n",
        "```bash\n",
        "5\n",
        "1 2 3 6 5 4 4 2 5 3 6 1 6 5 3 2 4 1 2 5 1 4 3 6 8 4 3 1 5 6 2\n",
        "```\n",
        "\n",
        "**Sample Output**\n",
        "```bash\n",
        "8\n",
        "```\n",
        "\n",
        "**Explanation:**\n",
        "\n",
        "The list of room numbers contains 31 elements. Since K is 5, there must be groups 6 of families. In the given list, all of the numbers repeat 5 times except for room number 8.\n",
        "Hence, 8 is the Captain's room number."
      ],
      "metadata": {
        "id": "_CF24dkebJZg"
      }
    },
    {
      "cell_type": "code",
      "source": [
        "k = int(input(\"Enter number of families: \"))\n",
        "rooms =input(\"Enter room numbers: \").split()\n",
        "ans = {}\n",
        "for i in rooms:\n",
        "  if i in ans:\n",
        "    ans[i]+=1\n",
        "  else:\n",
        "    ans[i]=1\n",
        "print(min(ans.items(), key=lambda x: x[1])[0])"
      ],
      "metadata": {
        "colab": {
          "base_uri": "https://localhost:8080/"
        },
        "id": "BZ654awyYgrb",
        "outputId": "38764e19-16c2-429c-93c1-95bd40adff9b"
      },
      "execution_count": null,
      "outputs": [
        {
          "output_type": "stream",
          "name": "stdout",
          "text": [
            "Enter number of families: 5\n",
            "Enter room numbers: 1 2 3 6 5 4 4 2 5 3 6 1 6 5 3 2 4 1 2 5 1 4 3 6 8 4 3 1 5 6 2\n",
            "8\n"
          ]
        }
      ]
    },
    {
      "cell_type": "markdown",
      "source": [
        "### `Problem-10:` Classes: Dealing with Complex Numbers\n",
        "\n",
        "For this challenge, you are given two complex numbers, and you have to print the result of their addition, subtraction, multiplication, division and modulus operations.\n",
        "\n",
        "The real and imaginary precision part should be correct up to two decimal places.\n",
        "\n",
        "**Input Format:**\n",
        "\n",
        "One line of input: The real and imaginary part of a number separated by a space.\n",
        "\n",
        "**Output Format:**\n",
        "\n",
        "For two complex numbers $C$ and $D$, the output should be in the following sequence on separate lines:\n",
        "\n",
        "- $C + D\n",
        "- $C - D\n",
        "- $C * D$\n",
        "- $C / D$\n",
        "- $mod(C)$\n",
        "- $mod(D)$\n",
        "\n",
        "For complex numbers with non-zero real ($A$) and complex part ($B), the output should be in the following format:\n",
        "\n",
        "$A + Bi$\n",
        "\n",
        "Replace the plus symbol ($+$) with a minus symbol ($-$) when $B<0$.\n",
        "\n",
        "For complex numbers with a zero complex part i.e. real numbers, the output should be:\n",
        "\n",
        "$A + 0.00i$\n",
        "\n",
        "For complex numbers where the real part is zero and the complex part ($B$) is non-zero, the output should be:\n",
        "\n",
        "$0.00 + Bi$\n",
        "\n",
        "**Sample Input:**\n",
        "\n",
        "```bash\n",
        "2 1     a b\n",
        "5 6     c d\n",
        "```\n",
        "\n",
        "**Sample Output:**\n",
        "\n",
        "```bash\n",
        "7.00+7.00i\n",
        "-3.00-5.00i\n",
        "4.00+17.00i\n",
        "0.26-0.11i\n",
        "2.24+0.00i\n",
        "7.81+0.00i\n",
        "```\n",
        "\n",
        "**Concept:**\n",
        "\n",
        "Solve this problem using Object Oriented way. Methods with a double underscore before and after their name are considered as built-in methods. They are used by interpreters and are generally used in the implementation of overloaded operators or other built-in functionality.\n",
        "\n",
        "```bash\n",
        "__add__-> Can be overloaded for + operation\n",
        "\n",
        "__sub__ -> Can be overloaded for - operation\n",
        "\n",
        "__mul__ -> Can be overloaded for * operation\n",
        "```"
      ],
      "metadata": {
        "id": "aMMNUSmLezFU"
      }
    },
    {
      "cell_type": "code",
      "source": [
        "import math\n",
        "\n",
        "class ComplexNumbers:\n",
        "\n",
        "  def __init__(self,real,complex):\n",
        "    self.real = real\n",
        "    self.complex = complex\n",
        "\n",
        "  def __add__(self,others):\n",
        "    if (+self.complex+others.complex) > 0:\n",
        "      return f\"{(self.real+others.real):.2f}+{(+self.complex+others.complex):.2f}i\"\n",
        "    else:\n",
        "      return f\"{(self.real+others.real):.2f}{(+self.complex+others.complex):.2f}i\"\n",
        "\n",
        "  def __sub__(self,others):\n",
        "    if self.complex-others.complex < 0:\n",
        "      return f\"{(self.real-others.real):.2f}{(self.complex-others.complex):.2f}i\"\n",
        "    else:\n",
        "      return f\"{(self.real-others.real):.2f}+{(self.complex-others.complex):.2f}i\"\n",
        "\n",
        "  def __mul__(self,others):\n",
        "    if ((math.prod((self.real,others.complex))+math.prod((self.complex,others.real)))) > 0:\n",
        "      return f\"{(math.prod((self.real,others.real))-math.prod((self.complex,others.complex))):.2f}+{(math.prod((self.real,others.complex))+math.prod((self.complex,others.real))):.2f}i\"\n",
        "    else:\n",
        "      return f\"{(math.prod((self.real,others.real))-math.prod((self.complex,others.complex))):.2f}{(math.prod((self.real,others.complex))+math.prod((self.complex,others.real))):.2f}i\"\n",
        "\n",
        "  def __truediv__(self,others):\n",
        "    if ((((math.prod((self.real,-others.complex))+math.prod((self.complex,others.real))))/(others.real**2+others.complex**2))) < 0:\n",
        "      return f\"{(((math.prod((self.real,others.real))-math.prod((self.complex,-others.complex))))/(others.real**2 + others.complex**2)):.2f}{(((math.prod((self.real,-others.complex))+math.prod((self.complex,others.real))))/(others.real**2+others.complex**2)):.2f}i\"\n",
        "    else:\n",
        "      return f\"{(((math.prod((self.real,others.real))-math.prod((self.complex,-others.complex))))/(others.real**2 + others.complex**2)):.2f}+{(((math.prod((self.real,-others.complex))+math.prod((self.complex,others.real))))/(others.real**2+others.complex**2)):.2f}i\"\n",
        "\n",
        "\n",
        "  def mod(self):\n",
        "    return f\"{math.sqrt(self.real**2+self.complex**2):.2f}+{0.00}i\"\n",
        "\n",
        "n1 = ComplexNumbers(2,1)\n",
        "n2 = ComplexNumbers(5,6)\n",
        "\n",
        "print(n1+n2)\n",
        "print(n1-n2)\n",
        "print(n1*n2)\n",
        "print(n1/n2)\n",
        "print(n1.mod())\n",
        "print(n2.mod())"
      ],
      "metadata": {
        "colab": {
          "base_uri": "https://localhost:8080/"
        },
        "id": "-08xGuX0n47r",
        "outputId": "2b62d31e-595d-444c-ccc5-4dddd06ac82b"
      },
      "execution_count": null,
      "outputs": [
        {
          "output_type": "stream",
          "name": "stdout",
          "text": [
            "7.00+7.00i\n",
            "-3.00-5.00i\n",
            "4.00+17.00i\n",
            "0.26-0.11i\n",
            "2.24+0.0i\n",
            "7.81+0.0i\n"
          ]
        }
      ]
    },
    {
      "cell_type": "markdown",
      "source": [
        "### `Problem-11:` Find the Torsional angle\n",
        "\n",
        "You are given four points $A, B, C$ and $D$ in a 3-dimensional Carterian coordinate system. You are required to print the angle between the plane made by the points $A, B, C$ and $B, C, D$ in degrees (**not radians**). Let the angle be $\\phi$.\n",
        "\n",
        "$cos(\\phi) = (X.Y)/|X||Y|$ where $X = AB * BC$ and $Y = BC * CD$\n",
        "\n",
        "Here, $X.Y$ means the dot product of $X$ and $Y$ and $AB*BC$ means the cross product of vectors $AB$ and $BC$. Also, $AB = B - A$\n",
        "\n",
        "**Input Format:**\n",
        "\n",
        "One line of input containing the space separated floating number values of the $X, Y$ and $Z$ coordinates of a point.\n",
        "\n",
        "**Output Format:**\n",
        "\n",
        "Output the angle correct up to two decimal places.\n",
        "\n",
        "**Sample Input:**\n",
        "\n",
        "```bash\n",
        "0 4 5\n",
        "1 7 6\n",
        "0 5 9\n",
        "1 7 2\n",
        "```\n",
        "\n",
        "**Sample Output:**\n",
        "\n",
        "```bash\n",
        "8.19\n",
        "```"
      ],
      "metadata": {
        "id": "GWMrK5200vWw"
      }
    },
    {
      "cell_type": "code",
      "source": [
        "import math\n",
        "\n",
        "\n",
        "class Angle:\n",
        "  def __init__(self,x,y,z):\n",
        "    self.x = x\n",
        "    self.y = y\n",
        "    self.z = z\n",
        "\n",
        "  def __sub__(self,others):\n",
        "    return Angle(self.x-others.x,self.y-others.y,self.z-others.z)\n",
        "\n",
        "  def cross(self, other):\n",
        "      return Angle( self.y * other.z - self.z * other.y,\n",
        "                   self.z * other.x - self.x * other.z,\n",
        "                   self.x * other.y - self.y * other.x)\n",
        "\n",
        "\n",
        "  def dot(self,other):\n",
        "    return (self.x*other.x + self.y*other.y + self.z*other.z)\n",
        "\n",
        "\n",
        "\n",
        "  def modulus(self):\n",
        "    return math.sqrt(self.x**2 + self.y**2 + self.z**2)\n",
        "\n",
        "\n",
        "\n",
        "\n",
        "a = Angle(0,4,5)\n",
        "b = Angle(1,7,6)\n",
        "c = Angle(0,5,9)\n",
        "d = Angle(1,7,2)\n",
        "X = (b-a).cross(c-b)\n",
        "print(X)\n",
        "Y = (c-b).cross(d-c)\n",
        "print(Y)\n",
        "ans = math.degrees(math.acos(X.dot(Y)/(X.modulus() * Y.modulus())))\n",
        "print(ans)\n",
        "\n"
      ],
      "metadata": {
        "colab": {
          "base_uri": "https://localhost:8080/"
        },
        "id": "cDSD0VhP0v4Q",
        "outputId": "2b13e851-3d66-4145-ca67-80f9fd2e5746"
      },
      "execution_count": null,
      "outputs": [
        {
          "output_type": "stream",
          "name": "stdout",
          "text": [
            "<__main__.Angle object at 0x7e34caa43c10>\n",
            "<__main__.Angle object at 0x7e34caa41650>\n",
            "8.189205763930197\n"
          ]
        }
      ]
    },
    {
      "cell_type": "markdown",
      "source": [
        "### `Problem-12:` Maximize it\n",
        "\n",
        "You are given a function $f(X) = X^2$. You are also given $K$ lists. The $i^{th}$ list consists of $N_i$ elements. You have to pick one element from each list so that the value from the equation below is maximized:\n",
        "\n",
        "$S = (f(X_1) + f(X_2) + ... + f(N_k)) \\% M $\n",
        "\n",
        "$X_i$ denotes the element picked from the $i^{th}$ list. Find the maximized value $S_{max}$ obtained.\n",
        "\n",
        "$\\%$ denotes the modulo operator.\n",
        "\n",
        "Note that you need to take exactly one element from each list, not necessarily the largest element. You add the squares of the chosen elements and perform the modulo operation. The maximum value that you can obtain, will be the answer to the problem.\n",
        "\n",
        "**Input Format:**\n",
        "\n",
        "The first line contains 2 space separated integers $K$ and $M$.\n",
        "\n",
        "The next $K$ lines each contains an integer $N_i$, denoting the number of elements in the $i^{th}$ list, followed by $N_i$ space separated integers denoting the elements in the list.\n",
        "\n",
        "**Output Format:**\n",
        "\n",
        "Output a single integer denoting the value $S_max$\n",
        "\n",
        "**Sample Input:**\n",
        "\n",
        "```bash\n",
        "3 1000\n",
        "2 5 4\n",
        "3 7 8 9\n",
        "5 5 7 8 9 10\n",
        "```\n",
        "\n",
        "**Sample Output:**\n",
        "\n",
        "```bash\n",
        "206\n",
        "```\n",
        "\n",
        "**Explanation:**\n",
        "\n",
        "Picking 5 from $1^{st}$ list, 9 from the $2^{nd}$ list and 10 from the $3^{rd}$ list gives the maximum $S$ value equal to $(5^2 + 9^2 + 10^2)\\%1000 = 206$"
      ],
      "metadata": {
        "id": "hDcrXmstg_Jo"
      }
    },
    {
      "cell_type": "code",
      "source": [
        "from itertools import product\n",
        "k = int(input(\"Enter number of list: \"))\n",
        "m = int(input(\"Enter the modulo number: \"))\n",
        "data = []\n",
        "maximum_sum = 0\n",
        "for i in range(k):\n",
        "  l = list(map(int,input(\"Enter list:  \").split()))\n",
        "  data.append(sorted(l))\n",
        "\n",
        "for i in product(*data,repeat=1):\n",
        "  square_sum=0\n",
        "  for j in i:\n",
        "    square_sum+=(j**2)\n",
        "  if (maximum_sum%m) < (square_sum%m):\n",
        "    maximum_sum = square_sum\n",
        "\n",
        "print(maximum_sum%m)\n"
      ],
      "metadata": {
        "colab": {
          "base_uri": "https://localhost:8080/"
        },
        "id": "NRiMeq3U_BRW",
        "outputId": "3e66b724-3d5f-4b42-d088-d695969484f7"
      },
      "execution_count": null,
      "outputs": [
        {
          "output_type": "stream",
          "name": "stdout",
          "text": [
            "Enter number of list: 3\n",
            "Enter the modulo number: 100\n",
            "Enter list:  2 9\n",
            "Enter list:  1 7\n",
            "Enter list:  11 0\n",
            "82\n"
          ]
        }
      ]
    },
    {
      "cell_type": "markdown",
      "source": [
        "### `Problem-13:` Diamond shape\n",
        "\n",
        "Write a python program to print the diamond shape. Given a number n, write a program to print a diamond shape with 2n rows.\n",
        "\n",
        "![Sample](https://media.geeksforgeeks.org/wp-content/cdn-uploads/diamond.png)"
      ],
      "metadata": {
        "id": "s-cRKdKBBu7o"
      }
    },
    {
      "cell_type": "code",
      "source": [
        "n = int(input(\"Enter size: \"))\n",
        "for i in range(1,n+1):\n",
        "  print(\" \"*(n-i)+\"* \"*i)\n",
        "for i in range(n,0,-1):\n",
        "  print(\" \"*(n-i)+\"* \"*i)"
      ],
      "metadata": {
        "colab": {
          "base_uri": "https://localhost:8080/"
        },
        "id": "PcRkKtlrBuPY",
        "outputId": "c1a23718-e530-4e1e-b53d-0788cb42d698"
      },
      "execution_count": null,
      "outputs": [
        {
          "output_type": "stream",
          "name": "stdout",
          "text": [
            "Enter size: 7\n",
            "      * \n",
            "     * * \n",
            "    * * * \n",
            "   * * * * \n",
            "  * * * * * \n",
            " * * * * * * \n",
            "* * * * * * * \n",
            "* * * * * * * \n",
            " * * * * * * \n",
            "  * * * * * \n",
            "   * * * * \n",
            "    * * * \n",
            "     * * \n",
            "      * \n"
          ]
        }
      ]
    },
    {
      "cell_type": "markdown",
      "source": [
        "### `Problem-14:` Write a python function to print the half-diamond star pattern.\n",
        "\n",
        "Given an integer N, the task is to print half-diamond-star pattern.\n",
        "\n",
        "```bash\n",
        "*\n",
        "**\n",
        "***\n",
        "****\n",
        "*****\n",
        "******\n",
        "*****\n",
        "****\n",
        "***\n",
        "**\n",
        "*\n",
        "```"
      ],
      "metadata": {
        "id": "-GQ7mciFFabM"
      }
    },
    {
      "cell_type": "code",
      "source": [
        "n = int(input(\"Enter size: \"))\n",
        "\n",
        "for i in range(1,n):\n",
        "  print(\"*\"*i)\n",
        "\n",
        "for i in range(n,0,-1):\n",
        "  print(\"*\"*i)"
      ],
      "metadata": {
        "colab": {
          "base_uri": "https://localhost:8080/"
        },
        "id": "IEO98hQfFYai",
        "outputId": "2a35c33e-9623-4c4b-ec24-f10eb102ea23"
      },
      "execution_count": null,
      "outputs": [
        {
          "output_type": "stream",
          "name": "stdout",
          "text": [
            "Enter size: 8\n",
            "*\n",
            "**\n",
            "***\n",
            "****\n",
            "*****\n",
            "******\n",
            "*******\n",
            "********\n",
            "*******\n",
            "******\n",
            "*****\n",
            "****\n",
            "***\n",
            "**\n",
            "*\n"
          ]
        }
      ]
    },
    {
      "cell_type": "markdown",
      "source": [
        "### `Problem-15:` Write a Python program to find the power of a given number using recursion.\n",
        "\n",
        "Given a number $N$ and power $P$, the task is to find the power of a number ( i.e. $N^P$ ) using recursion."
      ],
      "metadata": {
        "id": "EpJ0Siz6GX2z"
      }
    },
    {
      "cell_type": "code",
      "source": [
        "def recursive_power(n,p):\n",
        "  if p==0:\n",
        "    return 1\n",
        "  else:\n",
        "    return n * recursive_power(n,p-1)\n",
        "n,p = tuple(map(int,input(\"Enter number and its power: \").split()))\n",
        "print(recursive_power(n,p))"
      ],
      "metadata": {
        "colab": {
          "base_uri": "https://localhost:8080/"
        },
        "id": "Wk-iOe3YGYbb",
        "outputId": "e0730aa2-677a-4495-94d2-ffff6d8521e3"
      },
      "execution_count": null,
      "outputs": [
        {
          "output_type": "stream",
          "name": "stdout",
          "text": [
            "Enter number and its power: 3 3\n",
            "27\n"
          ]
        }
      ]
    },
    {
      "cell_type": "markdown",
      "source": [
        "### `Problem-16:` Largest number in a list\n",
        "\n",
        "Write a Python program to find the largest number in a list without using built-in methods."
      ],
      "metadata": {
        "id": "3AZThU3qJRww"
      }
    },
    {
      "cell_type": "code",
      "source": [
        "l = list(map(int,input(\"Enter a list of numbers: \").split()))\n",
        "maxi=0\n",
        "for i in l:\n",
        "  if maxi < i:\n",
        "    maxi = i\n",
        "\n",
        "print(maxi)"
      ],
      "metadata": {
        "colab": {
          "base_uri": "https://localhost:8080/"
        },
        "id": "nz1P19u8JSQY",
        "outputId": "164ba4a5-3541-4a34-f5a4-7d54678fb46f"
      },
      "execution_count": null,
      "outputs": [
        {
          "output_type": "stream",
          "name": "stdout",
          "text": [
            "Enter a list of numbers: 2 4 1 3 9 4 5 \n",
            "9\n"
          ]
        }
      ]
    },
    {
      "cell_type": "markdown",
      "source": [
        "### `Problem-17:` Reverse integer\n",
        "\n",
        "Write a python function that accepts any length of the integers and prints that integer in a reverse manner. Don't use any python trick or python special syntax."
      ],
      "metadata": {
        "id": "MZygnLuEPR81"
      }
    },
    {
      "cell_type": "code",
      "source": [
        "def recurive_reverse(n):\n",
        "  if n<10:\n",
        "    return str(n)\n",
        "  else:\n",
        "    return str(n%10)+str(recurive_reverse(n//10))\n",
        "n = int(input(\"Enter numbers of any length: \"))\n",
        "\n",
        "print(recurive_reverse(n))"
      ],
      "metadata": {
        "colab": {
          "base_uri": "https://localhost:8080/"
        },
        "id": "EKJLRXklPSc2",
        "outputId": "a1c249d0-4500-4973-b1d4-d3ad545b8246"
      },
      "execution_count": null,
      "outputs": [
        {
          "output_type": "stream",
          "name": "stdout",
          "text": [
            "Enter numbers of any length: 321\n",
            "123\n"
          ]
        }
      ]
    },
    {
      "cell_type": "markdown",
      "source": [
        "### `Problem-18:` Celsius to Farenhight\n",
        "\n",
        "Write a Python function that can convert the degree of Celsius to the Farenhight scale.\n",
        "\n"
      ],
      "metadata": {
        "id": "eM8m_AljR66u"
      }
    },
    {
      "cell_type": "code",
      "source": [
        "def celcius_fahrenheit(n):\n",
        "  return f\"{(((9/5) * n)+32):.2f}\"\n",
        "\n",
        "Celcius = celcius = int(input(\"Enter temperature(C): \"))\n",
        "print(f\"The temperature in fahrenheit: {celcius_fahrenheit(celcius)}\")"
      ],
      "metadata": {
        "colab": {
          "base_uri": "https://localhost:8080/"
        },
        "id": "NUvTxdYxR7r9",
        "outputId": "c5215da9-4af1-4881-8a19-2e486a87c436"
      },
      "execution_count": null,
      "outputs": [
        {
          "output_type": "stream",
          "name": "stdout",
          "text": [
            "Enter temperature(C): 25\n",
            "The temperature in fahrenheit: 77.00\n"
          ]
        }
      ]
    },
    {
      "cell_type": "markdown",
      "source": [
        "### `Problem-19:` is it right?\n",
        "\n",
        "You are given two values $a$ and $b$. Perform integer division and print $a/b$.\n",
        "\n",
        "**Input Format:**\n",
        "\n",
        "The first line contains $T$, the number of test cases.\n",
        "\n",
        "The next $T$ lines each contain the space separated values of $a$ and $b$.\n",
        "\n",
        "**Output Format:**\n",
        "\n",
        "Print the value of $a/b$.\n",
        "\n",
        "In the case of *ZeroDivisionError* or *ValueError*, print the error code.\n",
        "\n",
        "**Sample Input:**\n",
        "\n",
        "```bash\n",
        "3\n",
        "1 0\n",
        "2 5\n",
        "3 1\n",
        "```\n",
        "\n",
        "**Sample Output:**\n",
        "\n",
        "```bash\n",
        "Error Code: integer division or modulo by zero\n",
        "Error Code: invalid literal for int() with base 10: '$'\n",
        "3\n",
        "```"
      ],
      "metadata": {
        "id": "u6OdIEkjTcXn"
      }
    },
    {
      "cell_type": "code",
      "source": [
        "n = int(input(\"Enter range: \"))\n",
        "for i in range(n):\n",
        "  try:\n",
        "    x,y = tuple(map(int,input(\"Enter 2 numbers: \").split()))\n",
        "  except ValueError as e:\n",
        "    print(f\"Error Code: {e}\")\n",
        "    continue\n",
        "  try:\n",
        "    a = x//y\n",
        "  except ZeroDivisionError:\n",
        "    print(\"Error Code: integer division or modulo by zero\")\n",
        "    continue\n",
        "\n",
        "  else:\n",
        "    print(a)"
      ],
      "metadata": {
        "id": "s5qRpJJkTdBj",
        "colab": {
          "base_uri": "https://localhost:8080/"
        },
        "outputId": "2800bfd0-3e8d-4649-d7ba-c7cc0ad6910f"
      },
      "execution_count": null,
      "outputs": [
        {
          "output_type": "stream",
          "name": "stdout",
          "text": [
            "Enter range: 1\n",
            "Enter 2 numbers: a 2\n",
            "Error Code: invalid literal for int() with base 10: 'a'\n"
          ]
        }
      ]
    },
    {
      "cell_type": "markdown",
      "source": [
        "### `Problem 20:` Piling Up!\n",
        "\n",
        "There is a horizontal row of $n$ cubes. The length of each cube is given. You need to create a new vertical pile of cubes. The new pile should follow these directions: if $cube[i]$ is on top of $sube[j]$ then $sideLength[j] >= sigeLength[i]$.\n",
        "\n",
        "When stacling the cubes, you can only pick up either leftmost or the rightmost cube each time. Print Yes if it possible to stack the cubes. Otherwise, print No.\n",
        "\n",
        "**Example:**\n",
        "\n",
        "$blocks = [1, 2, 3, 8, 7]$\n",
        "\n",
        "Result: No\n",
        "\n",
        "After choosing the rightmost element 7, choose the leftmost element, 1. After than, the choices are 2 and 8. These are both larger than the top block of size 1.\n",
        "\n",
        "$blocks = [1, 2, 3, 7, 8]$\n",
        "\n",
        "Result: Yes\n",
        "\n",
        "Choose blocks from right to left in order to successfully stack the blocks.\n",
        "\n",
        "**Input Format:**\n",
        "\n",
        "The first line contains a single integer $T$, the number of test cases.\n",
        "\n",
        "For each test case, there are 2 lines.\n",
        "\n",
        "The first line of each test case contains $n$, the number of cubes.\n",
        "\n",
        "The second line contains $n$ space separated integers, denoting the sideLengths of each cube in that order.\n",
        "\n",
        "**Output Format:**\n",
        "\n",
        "For each test case, output a single line containing either `Yes` or `No`.\n",
        "\n",
        "**Sample Input:**\n",
        "\n",
        "```bash\n",
        "STDIN        Function\n",
        "-----        --------\n",
        "2            T = 2\n",
        "6            blocks[] size n = 6\n",
        "4 3 2 1 3 4  blocks = [4, 3, 2, 1, 3, 4]\n",
        "3            blocks[] size n = 3\n",
        "1 3 2        blocks = [1, 3, 2]\n",
        "```\n",
        "\n",
        "**Sample Output:**\n",
        "\n",
        "```bash\n",
        "Yes\n",
        "No\n",
        "```\n",
        "\n",
        "**Explanation:**\n",
        "\n",
        "In the first test case, pick in this order: *left-4, right-4, left-3, right-3,left-2, right-1*\n",
        "\n",
        "In the second test case, no order gives an appropriate arrangement of vertical cubes. 3 will always come after either 1 or 2."
      ],
      "metadata": {
        "id": "XvCEGGeCXyps"
      }
    },
    {
      "cell_type": "code",
      "source": [
        "iterations = int(input(\"\"))\n",
        "for i in range(iterations):\n",
        "    n = int(input(\"\"))\n",
        "    arr = list(map(int,input(\"\").split()))\n",
        "    flag = True\n",
        "\n",
        "\n",
        "    maxi = float('inf')\n",
        "    while len(arr)>=1:\n",
        "      if  arr[0]>=arr[-1] and arr[0]<= maxi:\n",
        "        maxi=arr[0]\n",
        "        arr=arr[1:]\n",
        "\n",
        "\n",
        "      elif arr[-1] > arr[0] and  arr[-1] <= maxi:\n",
        "        maxi =arr[-1]\n",
        "        arr=arr[:-1]\n",
        "\n",
        "\n",
        "      else:\n",
        "        flag = False\n",
        "        break\n",
        "\n",
        "    if flag:\n",
        "      print(\"Yes\")\n",
        "    else:\n",
        "      print(\"No\")"
      ],
      "metadata": {
        "colab": {
          "base_uri": "https://localhost:8080/"
        },
        "id": "g1klxwywXz0p",
        "outputId": "29725a27-1399-450b-8780-3b882386eb91"
      },
      "execution_count": null,
      "outputs": [
        {
          "output_type": "stream",
          "name": "stdout",
          "text": [
            "YES\n"
          ]
        }
      ]
    },
    {
      "cell_type": "markdown",
      "source": [
        "### `Problem 21` The following Python code represents a Tic-Tac-Toe board as a list of\n",
        "lists:\n",
        "`[ [ '#' , 'o' , 'x' ] , [ '#' , '#' , 'o' ] , [ 'x' , '#' , 'o' ] ]`\n",
        "\n",
        "The `#` symbols represent blank squares on the board. Write a function\n",
        "print_board that takes a list of lists as an argument and prints out a\n",
        "Tic-Tac-Toe board in the following format:\n",
        "```\n",
        "   | o | x\n",
        "------------\n",
        "   |   | o\n",
        "------------\n",
        " x |   | o\n",
        "```"
      ],
      "metadata": {
        "id": "LBgSJDGEtjhJ"
      }
    },
    {
      "cell_type": "code",
      "source": [
        "def print_board(arr):\n",
        "  text = ''\n",
        "  for i in arr:\n",
        "    for j in range(len(i)):\n",
        "      if i[j] == '#':\n",
        "        text+=' '+' | '\n",
        "      elif j == 2:\n",
        "        text+=str(i[j])+'\\n'+'----------'+'\\n'\n",
        "      elif i[j] != '#':\n",
        "        text+= str(i[j]) +' | '\n",
        "\n",
        "  return text\n",
        "\n",
        "\n",
        "print(print_board([ [ '#' , 'o' , 'x' ] , [ '#' , '#' , 'o' ] , [ 'x' , '#' , 'o' ] ]))"
      ],
      "metadata": {
        "id": "JThoNVSctkHz",
        "colab": {
          "base_uri": "https://localhost:8080/"
        },
        "outputId": "2bab62b4-c6a9-4c7a-9860-f50d14d3e4a5"
      },
      "execution_count": null,
      "outputs": [
        {
          "output_type": "stream",
          "name": "stdout",
          "text": [
            "  | o | x\n",
            "----------\n",
            "  |   | o\n",
            "----------\n",
            "x |   | o\n",
            "----------\n",
            "\n"
          ]
        }
      ]
    },
    {
      "cell_type": "markdown",
      "source": [
        "### `Problem 22:` Wobbly Number\n",
        "A “wobbly” number is one in which the digits alternate between being higher and lower than the preceding one. Here are some wobbly numbers: `19284756242, 90909, 0909`. Write a function that accepts a list of digits to be checked for wobbliness. If the sequence of digits is wobbly, the function should return True, otherwise False.\n"
      ],
      "metadata": {
        "id": "K3oEheN3Bn6n"
      }
    },
    {
      "cell_type": "code",
      "source": [
        "def wobbly_no(number):\n",
        "  data = str(number)\n",
        "  ans=[]\n",
        "  for i in range(len(data)):\n",
        "    if i < (len(data)-2):\n",
        "      if data[i] < data[i+1] > data[i+2]:\n",
        "        ans.append(data[i])\n",
        "\n",
        "      elif data[i] > data[i+1] < data[i+2]:\n",
        "        ans.append(data[i])\n",
        "  return ans\n",
        "\n",
        "\n",
        "b = str(12323)\n",
        "a = wobbly_no(b)\n",
        "print(len(a) == (len(b)-2))"
      ],
      "metadata": {
        "colab": {
          "base_uri": "https://localhost:8080/"
        },
        "id": "g8ynvq58Bohg",
        "outputId": "8d7528b5-4f0a-42db-9d5c-a1c315d5a946"
      },
      "execution_count": null,
      "outputs": [
        {
          "output_type": "stream",
          "name": "stdout",
          "text": [
            "False\n"
          ]
        }
      ]
    },
    {
      "cell_type": "markdown",
      "source": [
        "### `Problem 23-25`\n",
        "Imagine a fictional land where monetary units aren’t based on decimal orders. In this land, we have 3 basic units of currency:\n",
        "\n",
        "* The Blink. The smallest unit of currency.\n",
        "* The Hoojim. Worth 12 Blinks.\n",
        "* The Bung. Worth 20 Hooja (plural of Hoojim) or 240 Blinks."
      ],
      "metadata": {
        "id": "0wOI8liY9hOe"
      }
    },
    {
      "cell_type": "markdown",
      "source": [
        "####`Problem-23` Write a function called `deBung`\n",
        "Write a function called deBung that accepts an integer representing a number of Bungs and displays the number of Hooja and Blink it is worth.\n",
        "\n",
        "For example,calling the function like this:\n",
        "\n",
        "```\n",
        "deBung ( 4 )\n",
        "```\n",
        "Will produce the following output:\n",
        "`4 Bungs is worth 80 Hoojim or 960 Blinks.`\n"
      ],
      "metadata": {
        "id": "wGOjYTMX_tVE"
      }
    },
    {
      "cell_type": "code",
      "source": [
        "def debung(n):\n",
        "  return f\"{n} Bungs is worth {n*20} Hoojim or {n*240} Blinks\"\n",
        "\n",
        "print(debung(4))"
      ],
      "metadata": {
        "colab": {
          "base_uri": "https://localhost:8080/"
        },
        "id": "jULLcNqd9iCI",
        "outputId": "6e8c0ad7-07d8-4309-cc64-58116055b27f"
      },
      "execution_count": null,
      "outputs": [
        {
          "output_type": "stream",
          "name": "stdout",
          "text": [
            "4 Bungs is worth 80 Hoojim or 960 Blinks\n"
          ]
        }
      ]
    },
    {
      "cell_type": "markdown",
      "source": [
        "####`Problem-24` Write a function called `enBlinkHoojaBung`\n",
        "Write a function called enBlinkHoojaBung that takes a number of Blinks and outputs its equivalent in Blink, Hooja and Bung, using the smallest number of coins. Coins in our imaginary land are made of a very heavy metal, so this is important.\n",
        "\n",
        "If the function is called with the value `506`, the output should be:\n",
        "`506 Blinks is worth 2 Bung, 1 Hoojim and 6 Blinks`."
      ],
      "metadata": {
        "id": "-Cr6Mo7ABE78"
      }
    },
    {
      "cell_type": "code",
      "source": [
        "def debung(n):\n",
        "  bung = n//240\n",
        "  hoojim = (n-(bung*240))//12\n",
        "  blinks = (n - (bung*240) - (hoojim*12))\n",
        "  return f\"{n} Blinks is worth {bung} Bung ,{hoojim} Hoojim and {blinks} Blinks\"\n",
        "\n",
        "print(debung(506))"
      ],
      "metadata": {
        "colab": {
          "base_uri": "https://localhost:8080/"
        },
        "id": "hkcHxCagBEaM",
        "outputId": "e24c4e26-fd40-41ca-f718-4e2287bdf685"
      },
      "execution_count": null,
      "outputs": [
        {
          "output_type": "stream",
          "name": "stdout",
          "text": [
            "506 Blinks is worth 2 Bung ,2 Hoojim and 2 Blinks\n"
          ]
        }
      ]
    },
    {
      "cell_type": "markdown",
      "source": [
        "####`Problem-25` Rewrite `enBlinkHoojaBung`\n",
        "Rewrite enBlinkHoojaBung so that it returns a tuple of Blinks, Hooja and Bung values instead of writing to the screen.\n",
        "The last example would return `( 2 , 1 , 6 )`.\n"
      ],
      "metadata": {
        "id": "aFgQufhfDUEa"
      }
    },
    {
      "cell_type": "code",
      "source": [
        "def debung(n):\n",
        "  bung = n//240\n",
        "  hoojim = (n-(bung*240))//12\n",
        "  blinks = (n - (bung*240) - (hoojim*12))\n",
        "  return (bung,hoojim,blinks)\n",
        "\n",
        "print(debung(506))"
      ],
      "metadata": {
        "colab": {
          "base_uri": "https://localhost:8080/"
        },
        "id": "7ZO7KvSLDXWw",
        "outputId": "1059eefe-c720-4fcb-95a5-af7318a5468d"
      },
      "execution_count": null,
      "outputs": [
        {
          "output_type": "stream",
          "name": "stdout",
          "text": [
            "(2, 2, 2)\n"
          ]
        }
      ]
    },
    {
      "cell_type": "markdown",
      "source": [
        "###`Problem 26-28` Convert the following iterative functions into recursive functions:\n",
        "\n",
        "P-26:\n",
        "\n",
        "```\n",
        "def sum_even ( n : int) :\n",
        "    total = 0\n",
        "    for i in range ( 2 , n + 1 , 2 ) :\n",
        "        total += i\n",
        "    return total\n",
        "```\n",
        "P-27:\n",
        "```\n",
        "def min ( l:list ) :\n",
        "    m = 0\n",
        "    for i in l :\n",
        "        if i<m :\n",
        "            m = i\n",
        "    return m\n",
        "```\n",
        "P-28:\n",
        "```\n",
        "def prod ( l : list ) :\n",
        "    product , i = 1 , 0\n",
        "    while i < len ( l ) :\n",
        "        product *= l[i]\n",
        "        i += 1\n",
        "    return product\n",
        "```"
      ],
      "metadata": {
        "id": "DAyQJVyLEvDy"
      }
    },
    {
      "cell_type": "code",
      "source": [
        "def sum_even(n):\n",
        "  if n==0:\n",
        "    return 0\n",
        "  else:\n",
        "    return n + sum_even(n-2)\n",
        "\n",
        "print(sum_even(20))"
      ],
      "metadata": {
        "colab": {
          "base_uri": "https://localhost:8080/"
        },
        "id": "oXFz0zaZEx87",
        "outputId": "8fd01d5a-c78c-4c02-e36c-f2c7831d370b"
      },
      "execution_count": null,
      "outputs": [
        {
          "output_type": "stream",
          "name": "stdout",
          "text": [
            "110\n"
          ]
        }
      ]
    },
    {
      "cell_type": "code",
      "source": [
        "def min(l):\n",
        "  if len(l)==1:\n",
        "    return l[0]\n",
        "  else:\n",
        "    if l[-1] < l[-2] and l[-1] < l[0]:\n",
        "      l[0] = l[-1]\n",
        "    elif l[-1] > l[-2] and l[-2] < l[0]:\n",
        "      l[0]=l[-2]\n",
        "    return min(l[:-1])\n",
        "\n",
        "print(min([5, 4, 3, 2, 1, 0, 6, 7, 8, 9]))"
      ],
      "metadata": {
        "colab": {
          "base_uri": "https://localhost:8080/"
        },
        "id": "gUwMO_tzGufe",
        "outputId": "5b1a851b-4fb2-4aab-9a46-42407ce574e7"
      },
      "execution_count": null,
      "outputs": [
        {
          "output_type": "stream",
          "name": "stdout",
          "text": [
            "0\n"
          ]
        }
      ]
    },
    {
      "cell_type": "code",
      "source": [
        "def prod(l):\n",
        "  if len(l)==0:\n",
        "    return 1\n",
        "  else:\n",
        "    return l[0] * prod(l[1:])\n",
        "\n",
        "print(prod([1,2,3]))"
      ],
      "metadata": {
        "colab": {
          "base_uri": "https://localhost:8080/"
        },
        "id": "XsZ3Tr4OLXVd",
        "outputId": "584f3de0-c6ba-4726-d195-471ffde17668"
      },
      "execution_count": null,
      "outputs": [
        {
          "output_type": "stream",
          "name": "stdout",
          "text": [
            "6\n"
          ]
        }
      ]
    },
    {
      "cell_type": "markdown",
      "source": [
        "###`Problem 29-31` Convert the following iterative functions into recursive functions:\n",
        "P-29:\n",
        "```\n",
        "def sum_odd ( n , total ) :\n",
        "    if n == 1 :\n",
        "        return total\n",
        "    elif n % 2 == 0 :\n",
        "        return sum_odd ( n - 1 , total )\n",
        "    else :\n",
        "        return sum_odd ( n - 2 , total + n )\n",
        "\n",
        "\n",
        "```\n",
        "P-30:\n",
        "```\n",
        "def max ( l , n ) :\n",
        "    if l == [ ] :\n",
        "        return n\n",
        "    elif l[0] > n :\n",
        "        return max ( l[1:] , l[0] )\n",
        "    else :\n",
        "        return max ( l[1:] , n )\n",
        "\n",
        "```\n",
        "P-31:\n",
        "```\n",
        "def mylen ( l , n ) :\n",
        "    if l == [] :\n",
        "        return n\n",
        "    else :\n",
        "        return mylen ( l[1:] , n +1 )\n",
        "```"
      ],
      "metadata": {
        "id": "wSrRUIlZRKIY"
      }
    },
    {
      "cell_type": "code",
      "source": [
        "def sum_odd(n,total):\n",
        "  for i in range(1,n):\n",
        "    if n==1:\n",
        "      return total\n",
        "\n",
        "    elif n%2==0:\n",
        "      n-=1\n",
        "\n",
        "    elif n%2!=0:\n",
        "      total+=n\n",
        "      n-=2\n",
        "      i+=1\n",
        "  return total\n",
        "\n",
        "print(sum_odd(4,20))"
      ],
      "metadata": {
        "colab": {
          "base_uri": "https://localhost:8080/"
        },
        "id": "tevVcX_4RKvz",
        "outputId": "328edb3e-9412-48b1-becf-d44b34a28921"
      },
      "execution_count": null,
      "outputs": [
        {
          "output_type": "stream",
          "name": "stdout",
          "text": [
            "23\n"
          ]
        }
      ]
    },
    {
      "cell_type": "code",
      "source": [
        "def max(l,n):\n",
        "  max = 0\n",
        "  for i in range(n):\n",
        "    if max < l[i]:\n",
        "      max=l[i]\n",
        "  return max\n",
        "\n",
        "print(max([2,9,0,1,4],5))"
      ],
      "metadata": {
        "colab": {
          "base_uri": "https://localhost:8080/"
        },
        "id": "Ft_05MP6a372",
        "outputId": "e3a6e95c-d49c-4c87-c218-3f0a70130ada"
      },
      "execution_count": null,
      "outputs": [
        {
          "output_type": "stream",
          "name": "stdout",
          "text": [
            "9\n"
          ]
        }
      ]
    },
    {
      "cell_type": "code",
      "source": [
        "def mylen(l,n):\n",
        "  for i in l:\n",
        "    n+=1\n",
        "  return n\n",
        "\n",
        "print(mylen([1,2,3],3))"
      ],
      "metadata": {
        "colab": {
          "base_uri": "https://localhost:8080/"
        },
        "id": "-5WTSdSGbsVO",
        "outputId": "ed475d17-9af5-4ee9-ebc6-347b0c4cb8c7"
      },
      "execution_count": null,
      "outputs": [
        {
          "output_type": "stream",
          "name": "stdout",
          "text": [
            "6\n"
          ]
        }
      ]
    },
    {
      "cell_type": "markdown",
      "source": [
        "###`Problem 32-35\n",
        "P-32:\n",
        "> Use map and lambda to turn a list of integers from `1 to 100` into a list of even numbers from `2 to 200`.\n",
        "\n",
        "P-33:\n",
        "> Use filter to generate a list of odd numbers from 0 to 100\n",
        "\n",
        "P-34:\n",
        "> Use a list comprehension to generate a list of odd numbers from 0 to\n",
        "100.\n",
        "\n",
        "P-35:\n",
        "\n",
        "> Write a generator function (using the yield keyword) that generates\n",
        "factorial numbers.\n"
      ],
      "metadata": {
        "id": "11NrpYpHcVLs"
      }
    },
    {
      "cell_type": "code",
      "source": [
        "d = []\n",
        "for i in range(1,101):\n",
        "  d.append(i)\n",
        "\n",
        "e = list(map(lambda x:x*2 ,d))\n",
        "print(e)"
      ],
      "metadata": {
        "colab": {
          "base_uri": "https://localhost:8080/"
        },
        "id": "P3x60vb6cclF",
        "outputId": "5ca399f0-7b5c-4ce0-f733-1df585a174f2"
      },
      "execution_count": null,
      "outputs": [
        {
          "output_type": "stream",
          "name": "stdout",
          "text": [
            "[2, 4, 6, 8, 10, 12, 14, 16, 18, 20, 22, 24, 26, 28, 30, 32, 34, 36, 38, 40, 42, 44, 46, 48, 50, 52, 54, 56, 58, 60, 62, 64, 66, 68, 70, 72, 74, 76, 78, 80, 82, 84, 86, 88, 90, 92, 94, 96, 98, 100, 102, 104, 106, 108, 110, 112, 114, 116, 118, 120, 122, 124, 126, 128, 130, 132, 134, 136, 138, 140, 142, 144, 146, 148, 150, 152, 154, 156, 158, 160, 162, 164, 166, 168, 170, 172, 174, 176, 178, 180, 182, 184, 186, 188, 190, 192, 194, 196, 198, 200]\n"
          ]
        }
      ]
    },
    {
      "cell_type": "code",
      "source": [
        "d = []\n",
        "for i in range(0,100):\n",
        "  d.append(i)\n",
        "\n",
        "e = list(filter(lambda x:x%2!=0 ,d))\n",
        "print(e)"
      ],
      "metadata": {
        "colab": {
          "base_uri": "https://localhost:8080/"
        },
        "id": "r-zFThhFd0lH",
        "outputId": "08ee7d94-85b6-4813-d5f4-6645f1bff711"
      },
      "execution_count": null,
      "outputs": [
        {
          "output_type": "stream",
          "name": "stdout",
          "text": [
            "[1, 3, 5, 7, 9, 11, 13, 15, 17, 19, 21, 23, 25, 27, 29, 31, 33, 35, 37, 39, 41, 43, 45, 47, 49, 51, 53, 55, 57, 59, 61, 63, 65, 67, 69, 71, 73, 75, 77, 79, 81, 83, 85, 87, 89, 91, 93, 95, 97, 99]\n"
          ]
        }
      ]
    },
    {
      "cell_type": "markdown",
      "source": [],
      "metadata": {
        "id": "F6S6rf1uoHYT"
      }
    },
    {
      "cell_type": "code",
      "source": [
        "d = []\n",
        "for i in range(0,100):\n",
        "  d.append(i)\n",
        "\n",
        "e = [j for i in d for j in list(filter(lambda x:x%2!=0 ,d[i:i+1]))]\n",
        "print(e)"
      ],
      "metadata": {
        "colab": {
          "base_uri": "https://localhost:8080/"
        },
        "id": "BNFSOTc_iCKD",
        "outputId": "28c16953-c36c-478e-db36-be5204244d99"
      },
      "execution_count": null,
      "outputs": [
        {
          "output_type": "stream",
          "name": "stdout",
          "text": [
            "[1, 3, 5, 7, 9, 11, 13, 15, 17, 19, 21, 23, 25, 27, 29, 31, 33, 35, 37, 39, 41, 43, 45, 47, 49, 51, 53, 55, 57, 59, 61, 63, 65, 67, 69, 71, 73, 75, 77, 79, 81, 83, 85, 87, 89, 91, 93, 95, 97, 99]\n"
          ]
        }
      ]
    },
    {
      "cell_type": "code",
      "source": [
        "def generator(n=0):\n",
        "  mul=1\n",
        "  times = 1\n",
        "  while True:\n",
        "    mul*=times\n",
        "    yield mul\n",
        "    times+=1\n",
        "\n",
        "\n",
        "gen = generator()\n",
        "\n",
        "for i in range(5):\n",
        "  print(next(gen))"
      ],
      "metadata": {
        "colab": {
          "base_uri": "https://localhost:8080/"
        },
        "id": "rjxH-iZwikui",
        "outputId": "7132fba3-5b95-416f-a0db-c89002726012"
      },
      "execution_count": null,
      "outputs": [
        {
          "output_type": "stream",
          "name": "stdout",
          "text": [
            "1\n",
            "2\n",
            "6\n",
            "24\n",
            "120\n"
          ]
        }
      ]
    },
    {
      "cell_type": "markdown",
      "source": [
        "###`Problem-36:` Ackermann’s Function\n",
        "Ackermann’s Function is defined as:\n",
        "```\n",
        "          n+1 if m = 0\n",
        " A(m,n) = A(m−1,1) if m > 0 and n = 0\n",
        "          A(m−1,A(m,n−1)) if m > 0 and n > 0\n",
        "```\n",
        "\n",
        "i. Write a recursive Python function to implement Ackermann’s Function.\n",
        "\n",
        "ii. How many recursive calls will be required to evaluate A(2,3)?"
      ],
      "metadata": {
        "id": "MOtfq-OF8vDj"
      }
    },
    {
      "cell_type": "code",
      "source": [
        "def ackermanns_function(m,n,i,count):\n",
        "  if m==0:\n",
        "    i+=1\n",
        "    count(i)\n",
        "    return n+1\n",
        "  elif m>0 and n==0:\n",
        "    i+=1\n",
        "    count(i)\n",
        "    return ackermanns_function(m-1,1,i,count)\n",
        "  elif m>0 and n>0:\n",
        "    i+=1\n",
        "    count(i)\n",
        "    return ackermanns_function(m-1,ackermanns_function(m,n-1,i,count),i,count)\n",
        "\n",
        "def count(count=0):\n",
        "  print(f\"This code executed {count} times\")\n",
        "\n",
        "\n",
        "print(ackermanns_function(2,3,0,count))"
      ],
      "metadata": {
        "id": "LqYmz8U_8vwb"
      },
      "execution_count": null,
      "outputs": []
    },
    {
      "cell_type": "markdown",
      "source": [
        "###`Problem-37:` Palindrome String\n",
        "Write a recursive function implementation of `isPalindrome` to test whether or\n",
        "not a string is a palindrome.\n",
        "\n",
        "`a man, a plan, a canal, panama!` is a palindrome – so we do not make spaces and special characters(! here) significant."
      ],
      "metadata": {
        "id": "Ay_ISqsmDdyR"
      }
    },
    {
      "cell_type": "code",
      "source": [
        "def is_pailindrome(string):\n",
        "  string = ''.join([i.lower() for i in string if i.isalpha()])\n",
        "  if len(string)<=1:\n",
        "    return 1\n",
        "  elif string[0] == string[-1]:\n",
        "    return  is_pailindrome(string[1:-1])\n",
        "  else:\n",
        "    return 0\n",
        "\n",
        "\n",
        "print(is_pailindrome('a man, a plan, a canal, panama!')==1)"
      ],
      "metadata": {
        "colab": {
          "base_uri": "https://localhost:8080/"
        },
        "id": "r20d8XnxDfQu",
        "outputId": "4611a1b9-4238-4509-f661-c91762670eb9"
      },
      "execution_count": 3,
      "outputs": [
        {
          "output_type": "stream",
          "name": "stdout",
          "text": [
            "True\n"
          ]
        }
      ]
    },
    {
      "cell_type": "markdown",
      "source": [
        "###`Problem-38` Create a module for playing Tic-Tac-Toe.\n",
        "Hint: You may want to consider the following functions:\n",
        "1. print_board ( ) – from the programming exercise above, except that you will want to use a global board variable, rather than a function argument.\n",
        "2. has_won ( ) – check to see whether either player has won. This function should return the string ’o’ or ’x’ if either the o or x player has won and ’#’ if neither player has won. A player wins in Tic-Tac-Toe if they have three of their counters in a row, a column or a diagonal.\n",
        "3. place_counter ( sq , counter ) – place the counter on a particular square of the board. The first argument should be a number between 0 and 8 and the second argument should be either ’o’ or ’x’. You should consider the squares on the\n",
        "board to be numbered as in the diagram below.\n",
        "```\n",
        "    0 | 1 | 2\n",
        "    ----------\n",
        "    3 | 4 | 5\n",
        "    ----------\n",
        "    6 | 7 | 8\n",
        "```\n",
        "Using a numbering such as this one makes the answer to\n",
        "this challenge simpler!\n",
        "\n",
        "4. next_play ( ) – This function should ask the user for the next move they want to play. You should make sure that the user knows whether x or o is currently playing. You can assume that the user will enter an integer value. You should still check that the integer the player has provided is between 0 and 8 inclusive."
      ],
      "metadata": {
        "id": "vbbyMAfYFs9a"
      }
    },
    {
      "cell_type": "code",
      "source": [
        "def print_board(arr):\n",
        "  text = ''\n",
        "  for i in arr:\n",
        "    for j in range(len(i)):\n",
        "      if i[j] == '#':\n",
        "        text+=' '+' | '\n",
        "      elif j == 2:\n",
        "        text+=str(i[j])+'\\n'+'----------'+'\\n'\n",
        "      elif i[j] != '#':\n",
        "        text+= str(i[j]) +' | '\n",
        "\n",
        "  return text\n",
        "\n",
        "l = [[0,1,2],[3,4,5],[6,7,8]]\n",
        "\n",
        "def has_won(data):\n",
        "  data = set(data)\n",
        "  # if set((0,3,6)).issubset(data) or set((0,4,8)).issubset(data) or set((0,1,2)).issubset(data) or set((1,4,7)).issubset(data) or set((2,5,8)).issubset(data) or set((6,7,8)).issubset(data) or set((2,4,6)).issubset(data) or set((3,4,5)).issubset(data):\n",
        "  if data.issuperset({0,3,6}) or data.issuperset({0,4,8}) or data.issuperset({0,1,2}) or data.issuperset({1,4,7}) or data.issuperset({2,5,8}) or data.issuperset({6,7,8}) or data.issuperset({2,4,6}) or data.issuperset({3,4,5}):\n",
        "    return True\n",
        "  else:\n",
        "    return False\n",
        "\n",
        "\n",
        "def place_counter(data:list,point):\n",
        "  data.append(point)\n",
        "\n",
        "\n",
        "def next_play(i):\n",
        "  if i%2==0:\n",
        "    return 0\n",
        "  else:\n",
        "    return 1\n",
        "\n",
        "data_player_1 = []\n",
        "data_player_2 = []\n",
        "i = 0\n",
        "while i<=8:\n",
        "\n",
        "  if has_won(data_player_1) == True:\n",
        "    break\n",
        "\n",
        "  if has_won(data_player_2) == True:\n",
        "    break\n",
        "\n",
        "\n",
        "  player_turn = next_play(i)\n",
        "\n",
        "  play = int(input(f\"Player {next_play(i)+1} Turn \\nEnter the index of board where you want to play:  \"))\n",
        "\n",
        "  if 0<=play<=8 and play not in data_player_1 and play not in data_player_2:\n",
        "\n",
        "    if player_turn==0:\n",
        "\n",
        "      place_counter(data_player_1,play)\n",
        "      for k in l:\n",
        "        for j in range(len(k)):\n",
        "          if k[j]==play:\n",
        "            k[j]='O'\n",
        "\n",
        "    elif player_turn == 1:\n",
        "      place_counter(data_player_2,play)\n",
        "      for k in l:\n",
        "        for j in range(len(k)):\n",
        "          if k[j]==play:\n",
        "            k[j]='X'\n",
        "\n",
        "  else:\n",
        "    while True:\n",
        "        plays = int(input(\"Enter Valid Nuber: \"))\n",
        "        if 0<=plays<=8 and plays not in data_player_1 and plays not in data_player_2:\n",
        "          if player_turn==0:\n",
        "\n",
        "            place_counter(data_player_1,plays)\n",
        "            break\n",
        "\n",
        "          elif player_turn == 1:\n",
        "            place_counter(data_player_2,plays)\n",
        "            break\n",
        "\n",
        "\n",
        "  i+=1\n",
        "\n",
        "\n",
        "if has_won(data_player_2):\n",
        "  print(\"Player 2 winner\")\n",
        "else:\n",
        "  print(\"Player 1 winner\")\n",
        "\n",
        "print(print_board(l))\n"
      ],
      "metadata": {
        "colab": {
          "base_uri": "https://localhost:8080/"
        },
        "id": "NBSKhVyYFsgx",
        "outputId": "46a7f0f6-e81e-4915-d239-d9a13e175410"
      },
      "execution_count": 4,
      "outputs": [
        {
          "output_type": "stream",
          "name": "stdout",
          "text": [
            "Player 1 Turn \n",
            "Enter the index of board where you want to play:  0\n",
            "Player 2 Turn \n",
            "Enter the index of board where you want to play:  3\n",
            "Player 1 Turn \n",
            "Enter the index of board where you want to play:  1\n",
            "Player 2 Turn \n",
            "Enter the index of board where you want to play:  4\n",
            "Player 1 Turn \n",
            "Enter the index of board where you want to play:  2\n",
            "Player 1 winner\n",
            "O | O | O\n",
            "----------\n",
            "X | X | 5\n",
            "----------\n",
            "6 | 7 | 8\n",
            "----------\n",
            "\n"
          ]
        }
      ]
    },
    {
      "cell_type": "markdown",
      "source": [
        "###`Problem 39:` Die class\n",
        "Create a class to represent a single die that can have any positive integer number of sides. This kind of die might be used when playing role-playing games (RPGs).\n"
      ],
      "metadata": {
        "id": "6kGAAc_zeDAo"
      }
    },
    {
      "cell_type": "code",
      "source": [
        "import random\n",
        "class Die:\n",
        "  def __init__(self,number):\n",
        "    self.range = number\n",
        "    self.current = None\n",
        "\n",
        "\n",
        "  def roll(self):\n",
        "    value = random.randint(1,self.range)\n",
        "    self.current = value\n",
        "    return self.current\n",
        "\n",
        "  def __str__(self):\n",
        "    return f\"{self.current}\"\n",
        "\n",
        "\n",
        "\n",
        "\n",
        "\n",
        "die = Die(6)\n",
        "print(die)\n",
        "print(die.roll())"
      ],
      "metadata": {
        "colab": {
          "base_uri": "https://localhost:8080/"
        },
        "id": "w25P_RvweGTN",
        "outputId": "89b10585-df5a-47bc-cfa2-495189756252"
      },
      "execution_count": 5,
      "outputs": [
        {
          "output_type": "stream",
          "name": "stdout",
          "text": [
            "None\n",
            "4\n"
          ]
        }
      ]
    },
    {
      "cell_type": "markdown",
      "source": [
        "###`Problem -40` Account class\n",
        "Write a class `Account` that stores the `current balance`, `interest rate` and `account number` of a bank account. Your class should provide methods to `withdraw`, `deposit` and `add interest` to the account. The user should only be allowed to withdraw money up to some `overdraft limit`. If an account goes overdrawn, there is `fee charged`."
      ],
      "metadata": {
        "id": "B0xNsbdmmJTZ"
      }
    },
    {
      "cell_type": "code",
      "source": [
        "class Account:\n",
        "  def __init__(self):\n",
        "    self.balance = None\n",
        "    self.interest = None\n",
        "    self.accountno = None\n",
        "\n",
        "  def current_balance(self,balance):\n",
        "    self.balance = balance\n",
        "\n",
        "  def interest_rate(self,interest):\n",
        "    self.interest = interest\n",
        "\n",
        "  def account_no(self,number):\n",
        "    self.account_no = number\n",
        "\n",
        "  def withdraw(self,number):\n",
        "    if number <= 10000:\n",
        "      self.balance-=number\n",
        "    else:\n",
        "      print(\"Withdraw limit crossed fee would be deducted\")\n",
        "      self.balance-=(number+500)\n",
        "\n",
        "  def deposit(self,number):\n",
        "    self.balance+=number\n",
        "\n",
        "\n",
        "  def add_interest(self):\n",
        "    self.balance+=(self.balance*(self.interest/100))\n",
        "\n",
        "\n",
        "account = Account()\n",
        "account.current_balance(20000)\n",
        "\n",
        "account.interest_rate(5)\n",
        "\n",
        "account.withdraw(5000)\n",
        "\n",
        "account.deposit(1000)\n",
        "\n",
        "account.add_interest()\n",
        "\n",
        "print(account.balance)\n",
        "\n"
      ],
      "metadata": {
        "colab": {
          "base_uri": "https://localhost:8080/"
        },
        "id": "E6xzta6KmJ0Q",
        "outputId": "f906be00-208f-48d0-fc02-c5f12c79b758"
      },
      "execution_count": 6,
      "outputs": [
        {
          "output_type": "stream",
          "name": "stdout",
          "text": [
            "16800.0\n"
          ]
        }
      ]
    }
  ]
}