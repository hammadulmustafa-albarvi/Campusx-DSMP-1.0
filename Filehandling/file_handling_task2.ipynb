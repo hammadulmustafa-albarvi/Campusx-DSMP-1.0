{
  "nbformat": 4,
  "nbformat_minor": 0,
  "metadata": {
    "colab": {
      "provenance": []
    },
    "kernelspec": {
      "name": "python3",
      "display_name": "Python 3"
    },
    "language_info": {
      "name": "python"
    }
  },
  "cells": [
    {
      "cell_type": "markdown",
      "source": [
        "## Exception Handling\n"
      ],
      "metadata": {
        "id": "ajVfqio_GinI"
      }
    },
    {
      "cell_type": "markdown",
      "source": [
        "###`Q-1`: You are given a function definition. There might be several issues on execution of this function. You are asked to do exception handling for diffrent errors that this function goes in to `without altering this function`. And print error text.\n",
        "\n"
      ],
      "metadata": {
        "id": "0qnQkJtnGozz"
      }
    },
    {
      "cell_type": "markdown",
      "source": [
        "Function parameters `l -> list, s -> could be anything`\n",
        "\n",
        "```\n",
        "def function(l: list, s, **args):\n",
        "    last_element = l[-1]\n",
        "    \n",
        "    l[int(s)]=10\n",
        "    any_element = l[int(s)+10]\n",
        "    l[s]=10\n",
        "    \n",
        "    res = sum(l)\n",
        "    \n",
        "    p = args['p']\n",
        "    # print(p)\n",
        "    return res/last_element * p + any_element\n",
        "\n",
        "```\n",
        "Check for different function calls:-\n",
        "\n",
        "```\n",
        "function([1,2,1], 12)\n",
        "function([1,2,1]*9, '1-2')\n",
        "function([1,'2',1]*9, 12)\n",
        "function([1,'2',1]*9, 12)\n",
        "function([1,2,0]*9, 12  )\n",
        "function([1,2,1]*9, 12, p=None)\n",
        "function([1,2,0]*9, 12, p=10)\n",
        "```"
      ],
      "metadata": {
        "id": "2no_EB2fGyGq"
      }
    },
    {
      "cell_type": "code",
      "source": [
        "def function(l: list, s, **args):\n",
        "    try:\n",
        "      last_element = l[-1]\n",
        "    except IndexError:\n",
        "      print(\"empty list\")\n",
        "\n",
        "\n",
        "\n",
        "    try:\n",
        "        l[int(s)]=10\n",
        "    except IndexError:\n",
        "        print(\"Index Out Of Range!\")\n",
        "    except ValueError:\n",
        "        print(\"s must be an int not string\")\n",
        "\n",
        "    try:\n",
        "        any_element = l[int(s)+10]\n",
        "    except IndexError:\n",
        "        print(\"Index Out Of Range!\")\n",
        "\n",
        "    except ValueError:\n",
        "        print(\"s must be an int not string\")\n",
        "    except TypeError:\n",
        "        print(\"s must be an int to be L index\")\n",
        "\n",
        "    try:\n",
        "        l[s]=10\n",
        "    except KeyError:\n",
        "        print(\"The key doesnt exist\")\n",
        "    except IndexError:\n",
        "        print(\"Index error doesnt exist\")\n",
        "    except TypeError:\n",
        "        print(\"s must be an int to be L index\")\n",
        "\n",
        "    try:\n",
        "        res = sum(l)\n",
        "    except TypeError:\n",
        "        print(\"The list must contain integer only to apply sum\")\n",
        "\n",
        "    try:\n",
        "        p = args['p']\n",
        "    except KeyError:\n",
        "        print(\"key not found 'p'\")\n",
        "\n",
        "    # print(p)\n",
        "\n",
        "    try:\n",
        "        return res/last_element * p + any_element\n",
        "    except ZeroDivisionError:\n",
        "        print(\"cant divide by zero\")\n",
        "    except TypeError:\n",
        "        print(\"canT multiply/add opposite types\")\n",
        "    except NameError:\n",
        "        print(\"name is not defined\")\n",
        "    except Exception as e:\n",
        "        print(e)\n",
        "\n",
        "# function([1,2,1], 12)\n",
        "# function([1,'2',1]*9, 12)\n",
        "# function([1,'2',1]*9, 12)\n",
        "# function([1,2,0]*9, 12  )\n",
        "# function([1,2,1]*9, 12, p=None)\n",
        "# function([1,2,0]*9, 12, p=10)"
      ],
      "metadata": {
        "id": "VoaL4_9eGjFU"
      },
      "execution_count": 5,
      "outputs": []
    },
    {
      "cell_type": "markdown",
      "source": [
        "###`Q-2:` You are given a code snippet. There might be several issues on execution of this code. You are asked to do exception handling for diffrent errors, condition is what ever happens we need to execute last line printing correct result of `sum of elements`.\n",
        "\n",
        "List have elemnts as any no of  `key-pair dict with key as list index and value as any integer`, `integers` and `numeric-strings`. There is always only one element in the dict.\n",
        "\n",
        "\n",
        "```\n",
        "l = [{0:2},2,3,4,'5', {5:10}]\n",
        "# For calculating sum of above list\n",
        "s=0\n",
        "for i in range(len(l)):\n",
        "    #You can Edit code from here\n",
        "    s += l[i].get(i)\n",
        "    s += l[i]\n",
        "    s += int(l[i])\n",
        "\n",
        "\n",
        "print(s)\n",
        "```"
      ],
      "metadata": {
        "id": "HuLMy2fVG9sL"
      }
    },
    {
      "cell_type": "code",
      "source": [
        "l = [{0:2},2,3,4,'5', {5:10}]\n",
        "# For calculating sum of above list\n",
        "s=0\n",
        "for i in range(len(l)):\n",
        "    #You can Edit code from here\n",
        "    try:\n",
        "        s += l[i].get(i)\n",
        "    except AttributeError:\n",
        "        print(\"get only works on dictionaries only\")\n",
        "\n",
        "    else:\n",
        "        continue\n",
        "\n",
        "    try:\n",
        "        s += l[i]\n",
        "    except TypeError:\n",
        "        print(\"cannot add opposite data types\")\n",
        "\n",
        "    else:\n",
        "        continue\n",
        "    try:\n",
        "        s += int(l[i])\n",
        "    except TypeError:\n",
        "        print(\"cannot add opposite data types\")\n",
        "    except ValueError:\n",
        "        print(\"cant apply int on string \")\n",
        "\n",
        "try:\n",
        "    print(s)\n",
        "except Exception as e:\n",
        "    print(e)"
      ],
      "metadata": {
        "id": "pEP8JU0qHAf8",
        "colab": {
          "base_uri": "https://localhost:8080/"
        },
        "outputId": "b79bf3f3-fdcf-4b3e-c316-672a68118ed5"
      },
      "execution_count": 6,
      "outputs": [
        {
          "output_type": "stream",
          "name": "stdout",
          "text": [
            "get only works on dictionaries only\n",
            "get only works on dictionaries only\n",
            "get only works on dictionaries only\n",
            "get only works on dictionaries only\n",
            "cannot add opposite data types\n",
            "26\n"
          ]
        }
      ]
    },
    {
      "cell_type": "markdown",
      "source": [
        "### `Q-3:`: File Handling with Exception handling\n",
        "\n",
        "Write a program that opens a text file and write data to it as \"Hello, Good Morning!!!\". Handle exceptions that can be generated during the I/O operations. Do not show the success message on the main exception handling block (write inside the else block)."
      ],
      "metadata": {
        "id": "ohE2fDTXHIan"
      }
    },
    {
      "cell_type": "code",
      "source": [
        "# write code here\n",
        "\n",
        "try:\n",
        "    f = open('/content/frequency.txt','w')\n",
        "    show = f.writelines('Hello, Good Morning!!!')\n",
        "except IOError:\n",
        "    print(\"ERROR\")\n",
        "else:\n",
        "  print('file written successfully')\n",
        "\n",
        ""
      ],
      "metadata": {
        "id": "iOeiWrcIHPlY",
        "colab": {
          "base_uri": "https://localhost:8080/"
        },
        "outputId": "c82e1b61-c4c1-4a6d-f29d-4a8ba6b53a54"
      },
      "execution_count": 28,
      "outputs": [
        {
          "output_type": "stream",
          "name": "stdout",
          "text": [
            "file written successfully\n"
          ]
        }
      ]
    },
    {
      "cell_type": "markdown",
      "source": [
        "### `Q-4`: Number game program.\n",
        "\n",
        "Write a number game program. Ask the user to enter a number. If the number is greater than number to be guessed, raise a **ValueTooLarge** exception. If the value is smaller the number to be guessed the, raise a **ValueTooSmall** exception and prompt the user to enter again. Quit the program only when the user enters the correct number. Also raise **GuessError** if user guess a number less than 1."
      ],
      "metadata": {
        "id": "ru8g8-_bHTUf"
      }
    },
    {
      "cell_type": "code",
      "source": [
        "import random\n",
        "\n",
        "class ValueTooLarge(Exception):\n",
        "    def __init__(self,message):\n",
        "        self.message =message\n",
        "        print(self.message)\n",
        "\n",
        "class ValueTooSmall(Exception):\n",
        "    def __init__(self,message):\n",
        "        self.message =message\n",
        "        print(self.message)\n",
        "\n",
        "class GuessError(Exception):\n",
        "    def __init__(self,message):\n",
        "        self.message =message\n",
        "        print(self.message)\n",
        "\n",
        "\n",
        "number = random.randint(1,100)\n",
        "guess = int(input(\"Enter guessed number: \"))\n",
        "\n",
        "while guess != number:\n",
        "    try:\n",
        "        if guess < 1:\n",
        "            raise GuessError(\"Enter number greater than 1\")\n",
        "    except GuessError as e:\n",
        "        pass\n",
        "    try:\n",
        "        if guess < number:\n",
        "            raise ValueTooSmall(\"Enter a larger number\")\n",
        "    except ValueTooSmall as e:\n",
        "        pass\n",
        "    try:\n",
        "        if guess > number:\n",
        "            raise ValueTooLarge(\"Enter smaller number\")\n",
        "    except ValueTooLarge as e:\n",
        "        pass\n",
        "\n",
        "    guess = int(input(\"Enter guessed number: \"))\n",
        "print(\"You guessed correct number! \")"
      ],
      "metadata": {
        "id": "QftlN5LJHZSX",
        "colab": {
          "base_uri": "https://localhost:8080/"
        },
        "outputId": "0f8073ed-2cad-408a-be56-36d2889e5b1a"
      },
      "execution_count": 29,
      "outputs": [
        {
          "output_type": "stream",
          "name": "stdout",
          "text": [
            "Enter guessed number: 43\n",
            "Enter smaller number\n",
            "Enter guessed number: 23\n",
            "Enter a larger number\n",
            "Enter guessed number: 30\n",
            "Enter a larger number\n",
            "Enter guessed number: 33\n",
            "Enter a larger number\n",
            "Enter guessed number: 35\n",
            "Enter a larger number\n",
            "Enter guessed number: 40\n",
            "You guessed correct number! \n"
          ]
        }
      ]
    },
    {
      "cell_type": "markdown",
      "source": [
        "### `Q-5:` Cast vote\n",
        "\n",
        "Write a program that validate name and age as entered by the user to determine whether the person can cast vote or not. To handle the age, create **InvalidAge** exception and for name, create **InvalidName** exception. The name will be invalid when the string will be empty or name has only one word.\n",
        "\n",
        "Example 1:\n",
        "\n",
        "Input:\n",
        "\n",
        "```bash\n",
        "Enter the name:               goransh singh\n",
        "Enter the age: 25\n",
        "```\n",
        "\n",
        "Output:\n",
        "\n",
        "```bash\n",
        "Goransh Singh  Congratulation !!! You can vote.\n",
        "```"
      ],
      "metadata": {
        "id": "ZsGI_40fHcsd"
      }
    },
    {
      "cell_type": "code",
      "source": [
        "class InvalidAge(Exception):\n",
        "    def __init__(self,message):\n",
        "        print(message)\n",
        "\n",
        "\n",
        "class InvalidName(Exception):\n",
        "    def __init__(self,message):\n",
        "        print(message)\n",
        "\n",
        "\n",
        "try:\n",
        "    name = input('Enter name: ')\n",
        "    if len(name) == 1 or name == \"\":\n",
        "        raise InvalidName(\"Incorrect Name\")\n",
        "\n",
        "    age = input(\"Enter age: \")\n",
        "    if not age.isnumeric():\n",
        "        raise InvalidAge(\"Incorrect Age\")\n",
        "    elif age.isnumeric() and int(age) <= 18:\n",
        "        raise InvalidAge(\"Incorrect Age\")\n",
        "\n",
        "except InvalidAge as e:\n",
        "    pass\n",
        "\n",
        "except InvalidName as e:\n",
        "    pass\n",
        "\n",
        "else:\n",
        "    print(f\"{name} you can vote!\")"
      ],
      "metadata": {
        "id": "OHL3UiS4Hi3U",
        "colab": {
          "base_uri": "https://localhost:8080/"
        },
        "outputId": "53d39131-7371-4171-83ec-60c4344d5bf4"
      },
      "execution_count": 30,
      "outputs": [
        {
          "output_type": "stream",
          "name": "stdout",
          "text": [
            "Enter name: hammad\n",
            "Enter age: 23\n",
            "hammad you can vote!\n"
          ]
        }
      ]
    },
    {
      "cell_type": "markdown",
      "source": [
        "### `Q-6`: Write a python function which infinitely prints natural numbers in a single line. Raise the **StopIteration** exception after displaying first 20 numnbers to exit from the program."
      ],
      "metadata": {
        "id": "SCvs0QjgHlOG"
      }
    },
    {
      "cell_type": "code",
      "source": [
        "class StopIteration(Exception):\n",
        "    def __init__(self,message):\n",
        "        print(message)\n",
        "\n",
        "\n",
        "try:\n",
        "    count = 1\n",
        "    while True:\n",
        "        if count == 20:\n",
        "            raise StopIteration(\"\")\n",
        "        print(count,end=\" \")\n",
        "        count+=1\n",
        "except StopIteration:\n",
        "    print('program exited')\n",
        "\n",
        "\n",
        "\n",
        "\n",
        "\n",
        "\n",
        "\n"
      ],
      "metadata": {
        "id": "Lc5ilNgNHoSx",
        "colab": {
          "base_uri": "https://localhost:8080/"
        },
        "outputId": "d912ead0-c772-4f60-cb99-71281ad1fd19"
      },
      "execution_count": 31,
      "outputs": [
        {
          "output_type": "stream",
          "name": "stdout",
          "text": [
            "1 2 3 4 5 6 7 8 9 10 11 12 13 14 15 16 17 18 19 \n",
            "program exited\n"
          ]
        }
      ]
    }
  ]
}