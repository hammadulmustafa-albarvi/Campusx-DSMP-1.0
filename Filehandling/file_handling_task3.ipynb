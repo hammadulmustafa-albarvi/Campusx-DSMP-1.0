{
  "nbformat": 4,
  "nbformat_minor": 0,
  "metadata": {
    "colab": {
      "provenance": []
    },
    "kernelspec": {
      "name": "python3",
      "display_name": "Python 3"
    },
    "language_info": {
      "name": "python"
    }
  },
  "cells": [
    {
      "cell_type": "markdown",
      "source": [
        "## Namespace and Scope"
      ],
      "metadata": {
        "id": "hM8V4LxHKV6x"
      }
    },
    {
      "cell_type": "markdown",
      "source": [
        "###`Q1:` Write `Person` Class as given below and then display it's namespace.\n",
        "\n"
      ],
      "metadata": {
        "id": "Kl3s2TonKYgY"
      }
    },
    {
      "cell_type": "markdown",
      "source": [
        "```\n",
        "Class Name - Person\n",
        "\n",
        "Attributes:\n",
        "name - public\n",
        "state - public\n",
        "city - private\n",
        "age - private\n",
        "\n",
        "Methods:\n",
        "address - public\n",
        "It give address of the person as \"<name>, <city>, <state>\"\n",
        "```"
      ],
      "metadata": {
        "id": "grudG97hL83C"
      }
    },
    {
      "cell_type": "code",
      "source": [
        "class Person:\n",
        "    def __init__(self,name,state):\n",
        "        self.name = name\n",
        "        self.state = state\n",
        "        self.__city = None\n",
        "        self.__age = None\n",
        "\n",
        "\n",
        "    def address(self):\n",
        "        return f\"Address : {self.name} , {self.__city} , {self.state}\"\n",
        "\n",
        "    def set_city(self,city):\n",
        "        self.__city = city\n",
        "\n",
        "    def get_city(self):\n",
        "        return self.__city\n",
        "\n",
        "    def set_age(self,age):\n",
        "        self.__age = age\n",
        "\n",
        "    def get_age(self):\n",
        "        return self.__age\n",
        "\n",
        "obj = Person('hammad','pak')\n",
        "obj.set_age('19')\n",
        "obj.set_city('isb')\n",
        "print(obj.address())\n",
        "\n",
        "try:\n",
        "    obj.name = 'hassan'\n",
        "except AttributeError:\n",
        "    print(\"Cant access private/local variable\")\n",
        "\n",
        "try:\n",
        "    obj.state = 'Afg'\n",
        "except AttributeError:\n",
        "    print(\"Cant access private/local variable\")\n",
        "\n",
        "try:\n",
        "    print(obj.__city)\n",
        "except AttributeError:\n",
        "    print(\"Cant access private/local variable\")\n",
        "\n",
        "print(obj.address())\n",
        "\n",
        "list(Person.__dict__)"
      ],
      "metadata": {
        "id": "BRq-I4jmKX0U",
        "colab": {
          "base_uri": "https://localhost:8080/"
        },
        "outputId": "2efae306-8ec4-442a-f207-f8c1c5f5dbc7"
      },
      "execution_count": 2,
      "outputs": [
        {
          "output_type": "stream",
          "name": "stdout",
          "text": [
            "Address : hammad , isb , pak\n",
            "Cant access private/local variable\n",
            "Address : hassan , isb , Afg\n"
          ]
        },
        {
          "output_type": "execute_result",
          "data": {
            "text/plain": [
              "['__module__',\n",
              " '__init__',\n",
              " 'address',\n",
              " 'set_city',\n",
              " 'get_city',\n",
              " 'set_age',\n",
              " 'get_age',\n",
              " '__dict__',\n",
              " '__weakref__',\n",
              " '__doc__']"
            ]
          },
          "metadata": {},
          "execution_count": 2
        }
      ]
    },
    {
      "cell_type": "code",
      "source": [],
      "metadata": {
        "id": "8XD7YgT-L_ZU"
      },
      "execution_count": null,
      "outputs": []
    },
    {
      "cell_type": "markdown",
      "source": [
        "###`Q2:` Write a program to show namespace of object/instance of above(Person) class."
      ],
      "metadata": {
        "id": "NLtOPOXDL_zB"
      }
    },
    {
      "cell_type": "code",
      "source": [
        "class Person:\n",
        "    def __init__(self,name,state):\n",
        "        self.name = name\n",
        "        self.state = state\n",
        "        self.__city = None\n",
        "        self.__age = None\n",
        "\n",
        "\n",
        "    def address(self):\n",
        "        return f\"Address : {self.name} , {self.__city} , {self.state}\"\n",
        "\n",
        "    def set_city(self,city):\n",
        "        self.__city = city\n",
        "\n",
        "    def get_city(self):\n",
        "        return self.__city\n",
        "\n",
        "    def set_age(self,age):\n",
        "        self.__age = age\n",
        "\n",
        "    def get_age(self):\n",
        "        return self.__age\n",
        "\n",
        "obj = Person('hammad','pak')\n",
        "obj.set_age('19')\n",
        "obj.set_city('isb')\n",
        "print(obj.address())\n",
        "\n",
        "try:\n",
        "    obj.name = 'hassan'\n",
        "except AttributeError:\n",
        "    print(\"Cant access private/local variable\")\n",
        "\n",
        "try:\n",
        "    obj.state = 'Afg'\n",
        "except AttributeError:\n",
        "    print(\"Cant access private/local variable\")\n",
        "\n",
        "try:\n",
        "    print(obj.__city)\n",
        "except AttributeError:\n",
        "    print(\"Cant access private/local variable\")\n",
        "\n",
        "print(obj.address())\n",
        "\n",
        "\n",
        "list(obj.__dict__)"
      ],
      "metadata": {
        "id": "w3fj9tf0MJ3Z",
        "colab": {
          "base_uri": "https://localhost:8080/"
        },
        "outputId": "a5bc0eb0-573c-48c9-f04c-aff4b9a73fa8"
      },
      "execution_count": 3,
      "outputs": [
        {
          "output_type": "stream",
          "name": "stdout",
          "text": [
            "Address : hammad , isb , pak\n",
            "Cant access private/local variable\n",
            "Address : hassan , isb , Afg\n"
          ]
        },
        {
          "output_type": "execute_result",
          "data": {
            "text/plain": [
              "['name', 'state', '_Person__city', '_Person__age']"
            ]
          },
          "metadata": {},
          "execution_count": 3
        }
      ]
    },
    {
      "cell_type": "code",
      "source": [],
      "metadata": {
        "id": "J2C13ZiuNGP3"
      },
      "execution_count": 3,
      "outputs": []
    },
    {
      "cell_type": "markdown",
      "source": [
        "###`Q3:` Write a recursive program to to calculate `gcd` and print no. of function calls taken to find the solution.\n",
        "```\n",
        "gcd(5,10) -> result in 5 as gcd and function call 4\n",
        "```"
      ],
      "metadata": {
        "id": "rRnCZmlUY8sn"
      }
    },
    {
      "cell_type": "code",
      "source": [
        "def gcd(a,b,func,i):\n",
        "    if b==0:\n",
        "        func(i)\n",
        "        return a\n",
        "    else:\n",
        "        func(i)\n",
        "        return gcd(b,a%b,func,i+1)\n",
        "\n",
        "def func_call(num):\n",
        "    print(f\"The function is called {num} times\")\n",
        "\n",
        "print(f\"Result: {gcd(5,10,func_call,1)}\")\n",
        "\n",
        "\n",
        ""
      ],
      "metadata": {
        "id": "jYiVzxhUZRln",
        "colab": {
          "base_uri": "https://localhost:8080/"
        },
        "outputId": "2a280d46-0eb1-4377-a887-84afb6b91e77"
      },
      "execution_count": 5,
      "outputs": [
        {
          "output_type": "stream",
          "name": "stdout",
          "text": [
            "The function is called 1 times\n",
            "The function is called 2 times\n",
            "The function is called 3 times\n",
            "Result: 5\n"
          ]
        }
      ]
    },
    {
      "cell_type": "code",
      "source": [],
      "metadata": {
        "id": "gwnOjBakeEiE"
      },
      "execution_count": null,
      "outputs": []
    },
    {
      "cell_type": "markdown",
      "source": [
        "## Itterator And Generator"
      ],
      "metadata": {
        "id": "FbDepR9QNGnh"
      }
    },
    {
      "cell_type": "markdown",
      "source": [
        "###`Q4:` Create MyEnumerate class,\n",
        "Create your own `MyEnumerate` class such that someone can use it instead of enumerate. It will need to return a `tuple` with each iteration, with the first element in the tuple being the `index` (starting with 0) and the second element being the `current element` from the underlying data structure. Trying to use `MyEnumerate` with a noniterable argument will result in an error.\n",
        "\n",
        "```\n",
        "for index, letter in MyEnumerate('abc'):\n",
        "    print(f'{index} : {letter}')\n",
        "```\n",
        "\n",
        "Output:\n",
        "```\n",
        "0 : a\n",
        "1 : b\n",
        "2 : c\n",
        "```"
      ],
      "metadata": {
        "id": "Nj5WaR_4NJTu"
      }
    },
    {
      "cell_type": "code",
      "source": [
        "#Write your code here"
      ],
      "metadata": {
        "id": "6zjcm2gxNbfJ"
      },
      "execution_count": null,
      "outputs": []
    },
    {
      "cell_type": "code",
      "source": [
        "class MyEnumerate:\n",
        "    def __init__(self,data):\n",
        "        self.data = data\n",
        "\n",
        "    def __iter__(self):\n",
        "        return Iterator(self)\n",
        "\n",
        "class Iterator:\n",
        "    def __init__(self,iterable):\n",
        "        self.iterable = iterable\n",
        "        self.start = 0\n",
        "\n",
        "    def __iter__(self):\n",
        "        return self\n",
        "\n",
        "\n",
        "    def __next__(self):\n",
        "        if self.start < len(self.iterable.data):\n",
        "            start = self.start\n",
        "            self.start+=1\n",
        "            return (start,self.iterable.data[start])\n",
        "        else:\n",
        "            raise StopIteration\n",
        "\n",
        "\n",
        "for index, letter in MyEnumerate('abc'):\n",
        "    print(f'{index} : {letter}')"
      ],
      "metadata": {
        "colab": {
          "base_uri": "https://localhost:8080/"
        },
        "id": "m_gdOG4ANkVN",
        "outputId": "221129dd-751c-43ef-876d-fe9824e45105"
      },
      "execution_count": 6,
      "outputs": [
        {
          "output_type": "stream",
          "name": "stdout",
          "text": [
            "0 : a\n",
            "1 : b\n",
            "2 : c\n"
          ]
        }
      ]
    },
    {
      "cell_type": "code",
      "source": [
        "class MyEnumerate:\n",
        "    def __init__(self,data):\n",
        "        self.data = data\n",
        "        self.start = 0\n",
        "\n",
        "    def __iter__(self):\n",
        "        return self\n",
        "\n",
        "    def __next__(self):\n",
        "        if self.start < len(self.data):\n",
        "            start = self.start\n",
        "            self.start+=1\n",
        "            return (start,self.data[start])\n",
        "        else:\n",
        "            raise StopIteration\n",
        "\n",
        "for index, letter in MyEnumerate('abc'):\n",
        "    print(f'{index} : {letter}')"
      ],
      "metadata": {
        "id": "ya--mdHwNxdX",
        "colab": {
          "base_uri": "https://localhost:8080/"
        },
        "outputId": "1ff5642b-7dde-4a2b-9870-eeb430750107"
      },
      "execution_count": 10,
      "outputs": [
        {
          "output_type": "stream",
          "name": "stdout",
          "text": [
            "0 : a\n",
            "1 : b\n",
            "2 : c\n"
          ]
        }
      ]
    },
    {
      "cell_type": "markdown",
      "source": [
        "###`Q5:` Iterate in circle\n",
        "Define a class, `Circle`, that takes two arguments when defined: a sequence and a number. The idea is that the object will then return elements the defined number of times. If the number is greater than the number of elements, then the sequence  repeats as necessary. You can define an another class used as a helper (like I call `CircleIterator`).\n",
        "\n",
        "```\n",
        "c = Circle('abc', 5)\n",
        "d = Circle('abc', 7)\n",
        "print(list(c))\n",
        "print(list(d))\n",
        "```\n",
        "\n",
        "Output\n",
        "```\n",
        "[a, b, c, a, b]\n",
        "[a, b, c, a, b, c, a]\n",
        "```"
      ],
      "metadata": {
        "id": "U2Ai7rVDOLBw"
      }
    },
    {
      "cell_type": "code",
      "source": [
        "class Circle:\n",
        "    def __init__(self,data,data_range):\n",
        "        self.data = data\n",
        "        self.range = data_range\n",
        "        self.ans = []\n",
        "        self.answer()\n",
        "\n",
        "    def __iter__(self):\n",
        "        return CircleIterator(self)\n",
        "\n",
        "    def __str__(self):\n",
        "        return f\"{self.answer()}\"\n",
        "\n",
        "    def answer(self):\n",
        "        return self.ans\n",
        "\n",
        "class CircleIterator:\n",
        "    def __init__(self,iterable):\n",
        "        self.iterable = iterable\n",
        "        self.counter = 0\n",
        "        self.inside_counter = 0\n",
        "\n",
        "\n",
        "\n",
        "    def __next__(self):\n",
        "        if self.counter < self.iterable.range:\n",
        "            if self.counter >= len(self.iterable.data):\n",
        "                self.inside_counter = self.counter % len(self.iterable.data)\n",
        "                iterator = self.inside_counter\n",
        "                self.iterable.ans.append(self.iterable.data[iterator])\n",
        "\n",
        "\n",
        "            elif self.counter < len(self.iterable.data):\n",
        "                self.inside_counter = self.counter\n",
        "                iterator = self.inside_counter\n",
        "                self.iterable.ans.append(self.iterable.data[iterator])\n",
        "\n",
        "            self.counter+=1\n",
        "\n",
        "            return self.iterable.data[iterator]\n",
        "\n",
        "        else:\n",
        "            raise StopIteration\n",
        "\n",
        "d = Circle('abc', 7)\n",
        "print(list(d))"
      ],
      "metadata": {
        "id": "iwcTy1HyO5hs",
        "colab": {
          "base_uri": "https://localhost:8080/"
        },
        "outputId": "cd08717f-22d1-4707-b0a3-87b0cf54df0e"
      },
      "execution_count": 11,
      "outputs": [
        {
          "output_type": "stream",
          "name": "stdout",
          "text": [
            "['a', 'b', 'c', 'a', 'b', 'c', 'a']\n"
          ]
        }
      ]
    },
    {
      "cell_type": "markdown",
      "source": [
        "###`Q6:` Generator time elapsed\n",
        "Write a generator function whose argument must be iterable. With each iteration, the generator will return a two-element tuple. The first element in the tuple will be an integer indicating how many seconds have passed since the previous iteration. The tuple’s second element will be the next item from the passed argument.\n",
        "\n",
        "Note that the timing should be relative to the previous iteration, not when the\n",
        "generator was first created or invoked. Thus the timing number in the first iteration\n",
        "will be 0\n",
        "\n",
        "```\n",
        "for t in elapsed_since('abcd'):\n",
        "    print(t)\n",
        "    time.sleep(2)\n",
        "```\n",
        "\n",
        "Output:\n",
        "```\n",
        "(0.0, 'a')\n",
        "(2.005651817999933, 'b')\n",
        "(2.0023095009998997, 'c')\n",
        "(2.001949742000079, 'd')\n",
        "```\n",
        "Note: Your output may differ because of diffrent system has different processing configuration."
      ],
      "metadata": {
        "id": "17KyhciKQnAE"
      }
    },
    {
      "cell_type": "code",
      "source": [
        "import time\n",
        "def elapsed_since(arr):\n",
        "    last_time = 0\n",
        "    for i in arr:\n",
        "        if last_time == 0:\n",
        "            yield (last_time,i)\n",
        "            last_time = time.time()\n",
        "        else:\n",
        "            now = time.time()\n",
        "            yield(now-last_time,i)\n",
        "            last_time = time.time()\n",
        "\n",
        "\n",
        "\n",
        "\n",
        "for i in elapsed_since('abc'):\n",
        "    print(i)\n",
        "\n",
        "    time.sleep(2)"
      ],
      "metadata": {
        "id": "UkH1tj9zQ-gc",
        "colab": {
          "base_uri": "https://localhost:8080/"
        },
        "outputId": "bc432f83-d691-40e9-b2a2-1717c2a36ac6"
      },
      "execution_count": 12,
      "outputs": [
        {
          "output_type": "stream",
          "name": "stdout",
          "text": [
            "(0, 'a')\n",
            "(6.4373016357421875e-06, 'b')\n",
            "(7.867813110351562e-06, 'c')\n"
          ]
        }
      ]
    },
    {
      "cell_type": "markdown",
      "source": [
        "## Decorators"
      ],
      "metadata": {
        "id": "fXr3OJxJSC1j"
      }
    },
    {
      "cell_type": "markdown",
      "source": [
        "###`Q7:` Write a Python program to make a chain of function decorators (bold, italic, underline etc.) on a given function which prints \"hello world\"\n",
        "\n",
        "```\n",
        "def hello():\n",
        "    return \"hello world\"\n",
        "```\n",
        "\n",
        "```\n",
        "bold - wrap string with <b> tag. <b>Str</b>\n",
        "italic - wrap string with <i> tag. <i>Str</i>\n",
        "underline- wrap string with <u> tag. <u>Str</u>\n",
        "```"
      ],
      "metadata": {
        "id": "xSjvwAt-SFhi"
      }
    },
    {
      "cell_type": "code",
      "source": [
        "def underline(func):\n",
        "    def wrapper():\n",
        "      return \"<u>\" + func() + \"</u>\"\n",
        "    return wrapper\n",
        "\n",
        "def bold(func):\n",
        "    def wrapper():\n",
        "      return \"<b>\" + func() + \"</b>\"\n",
        "    return wrapper\n",
        "\n",
        "def Italic(func):\n",
        "    def wrapper():\n",
        "      return \"<i>\" + func() + \"</i>\"\n",
        "    return wrapper\n",
        "\n",
        "@bold\n",
        "@Italic\n",
        "@underline\n",
        "def hello():\n",
        "  return \"hello\"\n",
        "\n",
        "print(hello())"
      ],
      "metadata": {
        "id": "prVeZGYlSorr",
        "colab": {
          "base_uri": "https://localhost:8080/"
        },
        "outputId": "e3352840-39a8-4b58-94d7-5a834a0d53c3"
      },
      "execution_count": 32,
      "outputs": [
        {
          "output_type": "stream",
          "name": "stdout",
          "text": [
            "<b><i><u>hello</u></i></b>\n"
          ]
        }
      ]
    },
    {
      "cell_type": "markdown",
      "source": [
        "###`Q8:` Write a decorator called `printer` which causes any decorated function to print their return values. If the return value of a given function is `None`, printer should do nothing.\n",
        "\n"
      ],
      "metadata": {
        "id": "miKBwPy4TQWa"
      }
    },
    {
      "cell_type": "code",
      "source": [
        "def printer(function):\n",
        "    def wrapper():\n",
        "        a = function()\n",
        "        if a != None:\n",
        "            print(a)\n",
        "    return wrapper\n",
        "\n",
        "\n",
        "@printer\n",
        "def hello():\n",
        "    return 'hello world'\n",
        "\n",
        "hello()\n"
      ],
      "metadata": {
        "id": "05s0poRoT9II",
        "colab": {
          "base_uri": "https://localhost:8080/"
        },
        "outputId": "24aa9981-b42d-44b5-e6e5-604cdf6ec342"
      },
      "execution_count": 39,
      "outputs": [
        {
          "output_type": "stream",
          "name": "stdout",
          "text": [
            "hello world\n"
          ]
        }
      ]
    },
    {
      "cell_type": "markdown",
      "source": [
        "###`Q9:` Make a decorator which calls a given function twice. You can assume the functions don't return anything important, but they may take arguments.\n",
        "```\n",
        "#Lets say given function\n",
        "def hello(string):\n",
        "    print(string)\n",
        "\n",
        "#on calling after specified decorator is inplaced\n",
        "hello('hello')\n",
        "```\n",
        "\n",
        "Output:\n",
        "```\n",
        "hello\n",
        "hello\n",
        "```"
      ],
      "metadata": {
        "id": "DWJLjPOnURua"
      }
    },
    {
      "cell_type": "code",
      "source": [
        "def twice_printer(function):\n",
        "    def wrapper(*args):\n",
        "        # a = function(*args)\n",
        "        for _ in range(2):\n",
        "            function(*args)\n",
        "    return wrapper\n",
        "\n",
        "\n",
        "\n",
        "\n",
        "@twice_printer\n",
        "def hello(string):\n",
        "    print(string)\n",
        "\n",
        "hello('hello')"
      ],
      "metadata": {
        "id": "e38y0cz7UTdD",
        "colab": {
          "base_uri": "https://localhost:8080/"
        },
        "outputId": "ee16d583-b650-4e97-8b03-055b5bc2e115"
      },
      "execution_count": 40,
      "outputs": [
        {
          "output_type": "stream",
          "name": "stdout",
          "text": [
            "hello\n",
            "hello\n"
          ]
        }
      ]
    },
    {
      "cell_type": "markdown",
      "source": [
        "### `Q10:` Write a decorator which doubles the return value of any function. And test that decoratos is working correctly or not using `asert`.\n",
        "\n",
        "```\n",
        "add(2,3) -> result in 10. Without decorator it should be 5.\n",
        "```"
      ],
      "metadata": {
        "id": "8btcQI9pWi2w"
      }
    },
    {
      "cell_type": "code",
      "source": [
        "def double_result(function):\n",
        "    def wrapper(*args):\n",
        "        a = function(*args)\n",
        "        return 2*a\n",
        "    return wrapper\n",
        "\n",
        "@double_result\n",
        "def add(a,b):\n",
        "    return a+b\n",
        "\n",
        "\n",
        "ans = add(2,3)\n",
        "\n",
        "assert add(2,3) == ans\n",
        "print(\"Ok\")\n"
      ],
      "metadata": {
        "id": "nG6S_zQ9XFb3",
        "colab": {
          "base_uri": "https://localhost:8080/"
        },
        "outputId": "a7872b97-0778-4dfe-b922-5f5f3b59c77b"
      },
      "execution_count": 42,
      "outputs": [
        {
          "output_type": "stream",
          "name": "stdout",
          "text": [
            "Ok\n"
          ]
        }
      ]
    },
    {
      "cell_type": "code",
      "source": [],
      "metadata": {
        "id": "s16-A_RpXp2K"
      },
      "execution_count": null,
      "outputs": []
    }
  ]
}